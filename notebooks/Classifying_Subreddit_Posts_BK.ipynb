{
 "cells": [
  {
   "cell_type": "markdown",
   "metadata": {},
   "source": [
    "# Classifying Subreddit Posts <br>\n",
    "\n",
    "_**Author:** Bala Krishnamoorthy_ <br>\n",
    "_**Date**: December 2018_"
   ]
  },
  {
   "cell_type": "markdown",
   "metadata": {},
   "source": [
    "### Overview <br>\n",
    "\n",
    "**Goal:** Build a model that can classify reddit posts into the subreddit they belong to. <br>\n",
    "\n",
    "**Note:** Throughout this workbook, you'll find my comments/insights on the workflow in _italics_ and `#comments`. <br>"
   ]
  },
  {
   "cell_type": "markdown",
   "metadata": {},
   "source": [
    "## Contents\n",
    "\n",
    "- [Methodology](#Methodology)\n",
    "- [Import Libraries](#Import-Libraries)\n",
    "- [Data Gathering](#Data-Gathering)\n",
    "- [Import Gathered Data](#Import-Gathered-Data)\n",
    "- [Data Cleaning](#Data-Cleaning)\n",
    "- [Modelling with NLP: r/science vs r/technology](#Modelling-with-NLP:-r/science-vs-r/technology)\n",
    "- [Model Performance with Other Subreddits](#Model-Performance-with-Other-Subreddits)\n",
    "- [Visualizing Results](#Visualizing-Results)"
   ]
  },
  {
   "cell_type": "markdown",
   "metadata": {},
   "source": [
    "### Methodology <br>\n",
    "\n",
    "To do this, I will build and compare four classifiers: **Logistic Regression**, **RandomForest** , **Naive-Bayes** and **Support Vector Classifier**. Each classifier will rely on natural language processing (NLP) on the text within each post to better understand the characteristics (and ideally context) of the post. By doing so, the classifier will learn which post belongs in which subreddit. \n",
    "\n",
    "Here is an overview of the steps taken to build each classifier: <br>\n",
    "\n",
    "Steps common to both classifiers: \n",
    "- Pull posts from subreddits being examined using Reddit's API\n",
    "- Clean gathered data to extract post content (text), and any other potential identifying characteristics within each post. <br>\n",
    "- NLP:\n",
    "    - Vectorize data using CountVectorizer or TF-IDF\n",
    "- Modelling\n",
    "- Evaluate Model (initial)\n",
    "- Changes + Hyperparameter tuning: GridSearch, others?\n",
    "- Evaluate Model (final)\n"
   ]
  },
  {
   "cell_type": "markdown",
   "metadata": {},
   "source": [
    "#### Import Libraries"
   ]
  },
  {
   "cell_type": "code",
   "execution_count": 53,
   "metadata": {},
   "outputs": [],
   "source": [
    "# Data Manipulation\n",
    "import numpy as np\n",
    "import pandas as pd\n",
    "import regex as re\n",
    "\n",
    "# Machine Learning: sklearn\n",
    "from sklearn.linear_model import LogisticRegression\n",
    "import sklearn.metrics as metrics\n",
    "from sklearn.model_selection import train_test_split, cross_val_score, GridSearchCV\n",
    "from sklearn.pipeline import Pipeline\n",
    "from sklearn.preprocessing import StandardScaler\n",
    "from sklearn.neighbors import KNeighborsClassifier\n",
    "from sklearn.feature_extraction.text import CountVectorizer, TfidfVectorizer, HashingVectorizer\n",
    "from sklearn.feature_extraction import stop_words\n",
    "from sklearn.ensemble import RandomForestClassifier, AdaBoostClassifier, GradientBoostingClassifier\n",
    "from sklearn.ensemble import VotingClassifier\n",
    "from sklearn.naive_bayes import MultinomialNB\n",
    "from sklearn.svm import SVC\n",
    "\n",
    "# Machine Learning: nltk\n",
    "from nltk.tokenize import RegexpTokenizer\n",
    "from nltk.stem import WordNetLemmatizer\n",
    "from nltk.stem.porter import PorterStemmer\n",
    "\n",
    "# JSON Manipultion / API Access\n",
    "import json\n",
    "import requests\n",
    "import time\n",
    "import datetime\n",
    "from bs4 import BeautifulSoup\n",
    "\n",
    "# Time \n",
    "import time\n",
    "\n",
    "# Plotting\n",
    "import matplotlib.pyplot as plt\n",
    "import seaborn as sns\n",
    "\n",
    "%matplotlib inline\n",
    "%config InlineBackend.print_figure_kwargs={'facecolor' : \"w\"} # For dark themed j-notebooks\n",
    "\n",
    "# Other\n",
    "import warnings\n",
    "warnings.simplefilter(action='ignore', category=FutureWarning)"
   ]
  },
  {
   "cell_type": "markdown",
   "metadata": {},
   "source": [
    "### Data Gathering"
   ]
  },
  {
   "cell_type": "markdown",
   "metadata": {},
   "source": [
    "_The code below accesses Reddit's API and pulls subreddit posts from the specified subreddits within the `subreddits` list object. <br>\n",
    "Extracted posts are output to a csv file._"
   ]
  },
  {
   "cell_type": "code",
   "execution_count": 2,
   "metadata": {},
   "outputs": [],
   "source": [
    "# # Pulling posts from subreddits\n",
    "\n",
    "# ## Set timer\n",
    "# t0 = time.time()\n",
    "\n",
    "# # Define parameters used in for-loop below\n",
    "# # Subreddits: 'technology/', 'fitness/', 'sports/', 'showerthoughts/', 'mildlyinteresting/'\n",
    "# # 'controversial', 'top', 'rising'\n",
    "# subreddits = ['science/', 'technology/', 'fitness/', 'sports/', 'showerthoughts/', \n",
    "#               'mildlyinteresting/']\n",
    "# filters = ['new'] \n",
    "# # The most number of subreddit posts are available in the 'new' filter. The default subreddit url\n",
    "# # brings up the 'hot' filter within the subreddit. As part of this analysis, I found that reddit\n",
    "# # splits all 'new' posts into 'hot', 'top', 'controversial' and 'rising'.\n",
    "# for subreddit in subreddits:\n",
    "#     posts = []\n",
    "#     print('Pulling posts from:', subreddit, '...')\n",
    "#     print()\n",
    "#     for filter in filters: \n",
    "#         print()\n",
    "#         print('Pulling filter:', filter, '...')\n",
    "#         print()\n",
    "#         url = 'https://www.reddit.com/r/' + subreddit + filter + '.json'\n",
    "#         after = None\n",
    "#         agent = {'User-agent': 'red_bk'}\n",
    "#         num_requests = 100 # Number of times to request posts from reddit's API\n",
    "#         for i in range(num_requests):\n",
    "#             if i % 10 == 0:\n",
    "#                 print('Requests made:', i)\n",
    "#             if after == None:\n",
    "#                 params = {} # this dict represents the unique tag that tells us the last post pulled\n",
    "#             else:\n",
    "#                 params = {'after': after}\n",
    "#             res = requests.get(url, headers=agent, params=params)\n",
    "#             if res.status_code == 200:\n",
    "#                 the_json = res.json()\n",
    "#                 posts.extend(the_json['data']['children'])\n",
    "#                 after = the_json['data']['after']\n",
    "#                 if i % 5 == 0:\n",
    "#                     agent['User-agent'] = 'red_bk' + str(i)\n",
    "#             else:\n",
    "#                 print('Error:', status_code)\n",
    "#                 break\n",
    "#         # Convert subreddit list of dictionaries to posts\n",
    "#     df = pd.DataFrame(posts)\n",
    "#     df.to_csv('./data/' + subreddit[:-1] + '_' + time.strftime('%Y-%m-%d-%I%p'), index=False)\n",
    "#     time.sleep(1)\n",
    "\n",
    "# time_elapsed_secs = time.time() - t0 # time elapsed in seconds\n",
    "# print()\n",
    "# print('Num of Posts Collected (last subreddit):', len(posts))\n",
    "# print('Time Elapsed:', datetime.timedelta(seconds=time_elapsed_secs))\n",
    "# print('Code ended at:', time.strftime('%Y-%m-%d-%I%p:%Mmins'))"
   ]
  },
  {
   "cell_type": "markdown",
   "metadata": {},
   "source": [
    "### Import Gathered Data"
   ]
  },
  {
   "cell_type": "markdown",
   "metadata": {},
   "source": [
    "_Posts in csv format are extracted as a pandas dataframe and cleaned for further analysis._"
   ]
  },
  {
   "cell_type": "code",
   "execution_count": 3,
   "metadata": {},
   "outputs": [],
   "source": [
    "shower_df = pd.read_csv('./data/showerthoughts_2018-12-17-03PM')\n",
    "science_df = pd.read_csv('./data/science_2018-12-17-03PM')\n",
    "tech_df = pd.read_csv('./data/technology_2018-12-17-03PM')\n",
    "fit_df = pd.read_csv('./data/fitness_2018-12-17-03PM')\n",
    "sports_df = pd.read_csv('./data/sports_2018-12-17-03PM')\n",
    "mild_df = pd.read_csv('./data/mildlyinteresting_2018-12-17-03PM')"
   ]
  },
  {
   "cell_type": "code",
   "execution_count": 4,
   "metadata": {},
   "outputs": [],
   "source": [
    "list_of_dfs = [science_df, tech_df, fit_df, sports_df, mild_df, shower_df]"
   ]
  },
  {
   "cell_type": "code",
   "execution_count": 5,
   "metadata": {},
   "outputs": [],
   "source": [
    "# Convert dictionaries stored as strings back to dictionaries\n",
    "for df in list_of_dfs:\n",
    "    df['data'] = df['data'].map(lambda x: eval(x))"
   ]
  },
  {
   "cell_type": "code",
   "execution_count": 6,
   "metadata": {},
   "outputs": [],
   "source": [
    "# Check type of dict entry\n",
    "# type(science_df['data'][0])"
   ]
  },
  {
   "cell_type": "code",
   "execution_count": 7,
   "metadata": {
    "scrolled": true
   },
   "outputs": [
    {
     "name": "stdout",
     "output_type": "stream",
     "text": [
      "science Num of Unique Posts: 870\n",
      "technology Num of Unique Posts: 536\n",
      "Fitness Num of Unique Posts: 914\n",
      "sports Num of Unique Posts: 498\n",
      "mildlyinteresting Num of Unique Posts: 998\n",
      "Showerthoughts Num of Unique Posts: 998\n"
     ]
    }
   ],
   "source": [
    "# Num of unique posts in each subreddit (using 'name' for each post as an identifier)\n",
    "\n",
    "for df in list_of_dfs:\n",
    "    sr_name = df['data'][0]['subreddit']\n",
    "    df['post_name'] = df['data'].map(lambda x: x['name'])\n",
    "    print(sr_name, 'Num of Unique Posts:', len(set(df['post_name'])))"
   ]
  },
  {
   "cell_type": "code",
   "execution_count": 8,
   "metadata": {},
   "outputs": [
    {
     "data": {
      "text/html": [
       "<div>\n",
       "<style scoped>\n",
       "    .dataframe tbody tr th:only-of-type {\n",
       "        vertical-align: middle;\n",
       "    }\n",
       "\n",
       "    .dataframe tbody tr th {\n",
       "        vertical-align: top;\n",
       "    }\n",
       "\n",
       "    .dataframe thead th {\n",
       "        text-align: right;\n",
       "    }\n",
       "</style>\n",
       "<table border=\"1\" class=\"dataframe\">\n",
       "  <thead>\n",
       "    <tr style=\"text-align: right;\">\n",
       "      <th></th>\n",
       "      <th>data</th>\n",
       "      <th>kind</th>\n",
       "      <th>post_name</th>\n",
       "    </tr>\n",
       "  </thead>\n",
       "  <tbody>\n",
       "    <tr>\n",
       "      <th>0</th>\n",
       "      <td>{'approved_at_utc': None, 'subreddit': 'scienc...</td>\n",
       "      <td>t3</td>\n",
       "      <td>t3_a74sy0</td>\n",
       "    </tr>\n",
       "    <tr>\n",
       "      <th>1</th>\n",
       "      <td>{'approved_at_utc': None, 'subreddit': 'scienc...</td>\n",
       "      <td>t3</td>\n",
       "      <td>t3_a74lvx</td>\n",
       "    </tr>\n",
       "    <tr>\n",
       "      <th>2</th>\n",
       "      <td>{'approved_at_utc': None, 'subreddit': 'scienc...</td>\n",
       "      <td>t3</td>\n",
       "      <td>t3_a74jhp</td>\n",
       "    </tr>\n",
       "    <tr>\n",
       "      <th>3</th>\n",
       "      <td>{'approved_at_utc': None, 'subreddit': 'scienc...</td>\n",
       "      <td>t3</td>\n",
       "      <td>t3_a74bl1</td>\n",
       "    </tr>\n",
       "    <tr>\n",
       "      <th>4</th>\n",
       "      <td>{'approved_at_utc': None, 'subreddit': 'scienc...</td>\n",
       "      <td>t3</td>\n",
       "      <td>t3_a74aro</td>\n",
       "    </tr>\n",
       "  </tbody>\n",
       "</table>\n",
       "</div>"
      ],
      "text/plain": [
       "                                                data kind  post_name\n",
       "0  {'approved_at_utc': None, 'subreddit': 'scienc...   t3  t3_a74sy0\n",
       "1  {'approved_at_utc': None, 'subreddit': 'scienc...   t3  t3_a74lvx\n",
       "2  {'approved_at_utc': None, 'subreddit': 'scienc...   t3  t3_a74jhp\n",
       "3  {'approved_at_utc': None, 'subreddit': 'scienc...   t3  t3_a74bl1\n",
       "4  {'approved_at_utc': None, 'subreddit': 'scienc...   t3  t3_a74aro"
      ]
     },
     "execution_count": 8,
     "metadata": {},
     "output_type": "execute_result"
    }
   ],
   "source": [
    "science_df.head()"
   ]
  },
  {
   "cell_type": "code",
   "execution_count": 9,
   "metadata": {},
   "outputs": [],
   "source": [
    "# There are duplicate posts within each df (reddit provides duplicates once all the \"new\" posts\n",
    "# according to reddit have been provided.)\n",
    "for df in list_of_dfs:\n",
    "    df.drop_duplicates(subset='post_name', inplace=True)"
   ]
  },
  {
   "cell_type": "code",
   "execution_count": 10,
   "metadata": {},
   "outputs": [
    {
     "name": "stdout",
     "output_type": "stream",
     "text": [
      "science Rows: 870\n",
      "technology Rows: 536\n",
      "Fitness Rows: 914\n",
      "sports Rows: 498\n",
      "mildlyinteresting Rows: 998\n",
      "Showerthoughts Rows: 998\n"
     ]
    }
   ],
   "source": [
    "# Check to make sure duplicates were dropped correctly\n",
    "for df in list_of_dfs:\n",
    "    sr_name = df['data'][0]['subreddit']\n",
    "    print(sr_name, 'Rows:', df.shape[0])"
   ]
  },
  {
   "cell_type": "markdown",
   "metadata": {},
   "source": [
    "_Subreddits to compare: r/science and r/technology_ <br>\n",
    "- _Both are relatively similar, however, r/science tends to focus on academic research while r/technology appears to be more news-oriented._"
   ]
  },
  {
   "cell_type": "code",
   "execution_count": 11,
   "metadata": {},
   "outputs": [],
   "source": [
    "# Combine science and technology dfs\n",
    "df_st = pd.concat([science_df, tech_df], axis=0)"
   ]
  },
  {
   "cell_type": "code",
   "execution_count": 12,
   "metadata": {},
   "outputs": [],
   "source": [
    "# Reset index range after combining dfs \n",
    "df_st.reset_index(inplace=True)"
   ]
  },
  {
   "cell_type": "code",
   "execution_count": 13,
   "metadata": {},
   "outputs": [
    {
     "data": {
      "text/plain": [
       "RangeIndex(start=0, stop=1406, step=1)"
      ]
     },
     "execution_count": 13,
     "metadata": {},
     "output_type": "execute_result"
    }
   ],
   "source": [
    "df_st.index # Check index range"
   ]
  },
  {
   "cell_type": "markdown",
   "metadata": {},
   "source": [
    "### Data Cleaning"
   ]
  },
  {
   "cell_type": "markdown",
   "metadata": {},
   "source": [
    "_Let's begin by cleaning posts from the r/science and r/technology subreddits. These subreddits are relatively similar in terms of content._"
   ]
  },
  {
   "cell_type": "code",
   "execution_count": 14,
   "metadata": {},
   "outputs": [],
   "source": [
    "# Separate the dictionary entries for each post into individual columns \n",
    "\n",
    "# Combined df\n",
    "\n",
    "dict_keys = sorted(df_st['data'][0].keys())"
   ]
  },
  {
   "cell_type": "code",
   "execution_count": 15,
   "metadata": {},
   "outputs": [
    {
     "data": {
      "text/plain": [
       "96    0.540541\n",
       "92    0.369844\n",
       "94    0.086771\n",
       "99    0.000711\n",
       "97    0.000711\n",
       "93    0.000711\n",
       "90    0.000711\n",
       "Name: data, dtype: float64"
      ]
     },
     "execution_count": 15,
     "metadata": {},
     "output_type": "execute_result"
    }
   ],
   "source": [
    "# Check number of keys (i.e. data fields) for each post\n",
    "(df_st['data'].map(lambda x: len(x.keys()))).value_counts(normalize=True)\n",
    "\n",
    "# Most posts have a similar number of keys. The keys missing in certain posts are unlikely to\n",
    "# be significant features for this analysis"
   ]
  },
  {
   "cell_type": "code",
   "execution_count": 16,
   "metadata": {},
   "outputs": [
    {
     "name": "stdout",
     "output_type": "stream",
     "text": [
      "['approved_at_utc', 'approved_by', 'archived', 'author', 'author_flair_background_color', 'author_flair_css_class', 'author_flair_richtext', 'author_flair_template_id', 'author_flair_text', 'author_flair_text_color', 'author_flair_type', 'author_fullname', 'author_patreon_flair', 'banned_at_utc', 'banned_by', 'can_gild', 'can_mod_post', 'category', 'clicked', 'content_categories', 'contest_mode', 'created', 'created_utc', 'distinguished', 'domain', 'downs', 'edited', 'gilded', 'gildings', 'hidden', 'hide_score', 'id', 'is_crosspostable', 'is_meta', 'is_original_content', 'is_reddit_media_domain', 'is_robot_indexable', 'is_self', 'is_video', 'likes', 'link_flair_background_color', 'link_flair_css_class', 'link_flair_richtext', 'link_flair_template_id', 'link_flair_text', 'link_flair_text_color', 'link_flair_type', 'locked', 'media', 'media_embed', 'media_only', 'mod_note', 'mod_reason_by', 'mod_reason_title', 'mod_reports', 'name', 'no_follow', 'num_comments', 'num_crossposts', 'num_reports', 'over_18', 'parent_whitelist_status', 'permalink', 'pinned', 'post_hint', 'preview', 'pwls', 'quarantine', 'removal_reason', 'report_reasons', 'saved', 'score', 'secure_media', 'secure_media_embed', 'selftext', 'selftext_html', 'send_replies', 'spoiler', 'stickied', 'subreddit', 'subreddit_id', 'subreddit_name_prefixed', 'subreddit_subscribers', 'subreddit_type', 'suggested_sort', 'thumbnail', 'thumbnail_height', 'thumbnail_width', 'title', 'ups', 'url', 'user_reports', 'view_count', 'visited', 'whitelist_status', 'wls']\n"
     ]
    }
   ],
   "source": [
    "# List of data fields within each post\n",
    "print(dict_keys)"
   ]
  },
  {
   "cell_type": "markdown",
   "metadata": {},
   "source": [
    "Inspecting the data fields above shows that many of them contain data for admin/formatting purposes, as opposed to information on the content of the post (e.g. \"author_flair_background_color\", \"is_robot_indexable\", etc.) that might allude to which subreddit it belongs to. Thus, I will select a subset of these data fields to examine in further detail."
   ]
  },
  {
   "cell_type": "code",
   "execution_count": 17,
   "metadata": {},
   "outputs": [],
   "source": [
    "# Selected data fields\n",
    "\n",
    "post_fields = ['approved_by', 'author', 'category', 'content_categories', 'created', 'domain', \n",
    "              'likes', 'media', 'name', 'num_comments', 'num_crossposts', 'num_reports','selftext',\n",
    "               'subreddit', 'title', 'wls']"
   ]
  },
  {
   "cell_type": "code",
   "execution_count": 18,
   "metadata": {},
   "outputs": [],
   "source": [
    "for field in post_fields:\n",
    "    df_st[field] = df_st['data'].map(lambda x: x[field])"
   ]
  },
  {
   "cell_type": "markdown",
   "metadata": {},
   "source": [
    "_Let's examine the selected columns in more detail:_"
   ]
  },
  {
   "cell_type": "code",
   "execution_count": 19,
   "metadata": {},
   "outputs": [
    {
     "data": {
      "text/html": [
       "<div>\n",
       "<style scoped>\n",
       "    .dataframe tbody tr th:only-of-type {\n",
       "        vertical-align: middle;\n",
       "    }\n",
       "\n",
       "    .dataframe tbody tr th {\n",
       "        vertical-align: top;\n",
       "    }\n",
       "\n",
       "    .dataframe thead th {\n",
       "        text-align: right;\n",
       "    }\n",
       "</style>\n",
       "<table border=\"1\" class=\"dataframe\">\n",
       "  <thead>\n",
       "    <tr style=\"text-align: right;\">\n",
       "      <th></th>\n",
       "      <th>index</th>\n",
       "      <th>data</th>\n",
       "      <th>kind</th>\n",
       "      <th>post_name</th>\n",
       "      <th>approved_by</th>\n",
       "      <th>author</th>\n",
       "      <th>category</th>\n",
       "      <th>content_categories</th>\n",
       "      <th>created</th>\n",
       "      <th>domain</th>\n",
       "      <th>likes</th>\n",
       "      <th>media</th>\n",
       "      <th>name</th>\n",
       "      <th>num_comments</th>\n",
       "      <th>num_crossposts</th>\n",
       "      <th>num_reports</th>\n",
       "      <th>selftext</th>\n",
       "      <th>subreddit</th>\n",
       "      <th>title</th>\n",
       "      <th>wls</th>\n",
       "    </tr>\n",
       "  </thead>\n",
       "  <tbody>\n",
       "    <tr>\n",
       "      <th>0</th>\n",
       "      <td>0</td>\n",
       "      <td>{'approved_at_utc': None, 'subreddit': 'scienc...</td>\n",
       "      <td>t3</td>\n",
       "      <td>t3_a74sy0</td>\n",
       "      <td>None</td>\n",
       "      <td>Wagamaga</td>\n",
       "      <td>None</td>\n",
       "      <td>None</td>\n",
       "      <td>1.545115e+09</td>\n",
       "      <td>news.vcu.edu</td>\n",
       "      <td>None</td>\n",
       "      <td>None</td>\n",
       "      <td>t3_a74sy0</td>\n",
       "      <td>3</td>\n",
       "      <td>0</td>\n",
       "      <td>None</td>\n",
       "      <td></td>\n",
       "      <td>science</td>\n",
       "      <td>Children of parents who have alcohol use disor...</td>\n",
       "      <td>6</td>\n",
       "    </tr>\n",
       "    <tr>\n",
       "      <th>1</th>\n",
       "      <td>1</td>\n",
       "      <td>{'approved_at_utc': None, 'subreddit': 'scienc...</td>\n",
       "      <td>t3</td>\n",
       "      <td>t3_a74lvx</td>\n",
       "      <td>None</td>\n",
       "      <td>cromatron</td>\n",
       "      <td>None</td>\n",
       "      <td>None</td>\n",
       "      <td>1.545114e+09</td>\n",
       "      <td>gizmodo.com</td>\n",
       "      <td>None</td>\n",
       "      <td>None</td>\n",
       "      <td>t3_a74lvx</td>\n",
       "      <td>3</td>\n",
       "      <td>0</td>\n",
       "      <td>None</td>\n",
       "      <td></td>\n",
       "      <td>science</td>\n",
       "      <td>Astronomers Just Discovered 'Farout,' the Most...</td>\n",
       "      <td>6</td>\n",
       "    </tr>\n",
       "    <tr>\n",
       "      <th>2</th>\n",
       "      <td>2</td>\n",
       "      <td>{'approved_at_utc': None, 'subreddit': 'scienc...</td>\n",
       "      <td>t3</td>\n",
       "      <td>t3_a74jhp</td>\n",
       "      <td>None</td>\n",
       "      <td>ididntwin</td>\n",
       "      <td>None</td>\n",
       "      <td>None</td>\n",
       "      <td>1.545113e+09</td>\n",
       "      <td>nature.com</td>\n",
       "      <td>None</td>\n",
       "      <td>None</td>\n",
       "      <td>t3_a74jhp</td>\n",
       "      <td>3</td>\n",
       "      <td>0</td>\n",
       "      <td>None</td>\n",
       "      <td></td>\n",
       "      <td>science</td>\n",
       "      <td>A novel and safe small molecule enhances hair ...</td>\n",
       "      <td>6</td>\n",
       "    </tr>\n",
       "    <tr>\n",
       "      <th>3</th>\n",
       "      <td>3</td>\n",
       "      <td>{'approved_at_utc': None, 'subreddit': 'scienc...</td>\n",
       "      <td>t3</td>\n",
       "      <td>t3_a74bl1</td>\n",
       "      <td>None</td>\n",
       "      <td>Wagamaga</td>\n",
       "      <td>None</td>\n",
       "      <td>None</td>\n",
       "      <td>1.545112e+09</td>\n",
       "      <td>ldi.upenn.edu</td>\n",
       "      <td>None</td>\n",
       "      <td>None</td>\n",
       "      <td>t3_a74bl1</td>\n",
       "      <td>14</td>\n",
       "      <td>0</td>\n",
       "      <td>None</td>\n",
       "      <td></td>\n",
       "      <td>science</td>\n",
       "      <td>A study of 500 U.S. hospitals, and from the pe...</td>\n",
       "      <td>6</td>\n",
       "    </tr>\n",
       "    <tr>\n",
       "      <th>4</th>\n",
       "      <td>4</td>\n",
       "      <td>{'approved_at_utc': None, 'subreddit': 'scienc...</td>\n",
       "      <td>t3</td>\n",
       "      <td>t3_a74aro</td>\n",
       "      <td>None</td>\n",
       "      <td>Edude60</td>\n",
       "      <td>None</td>\n",
       "      <td>None</td>\n",
       "      <td>1.545112e+09</td>\n",
       "      <td>nasa.gov</td>\n",
       "      <td>None</td>\n",
       "      <td>None</td>\n",
       "      <td>t3_a74aro</td>\n",
       "      <td>5</td>\n",
       "      <td>0</td>\n",
       "      <td>None</td>\n",
       "      <td></td>\n",
       "      <td>science</td>\n",
       "      <td>Saturn's Rings May Disappear in 100 million years</td>\n",
       "      <td>6</td>\n",
       "    </tr>\n",
       "  </tbody>\n",
       "</table>\n",
       "</div>"
      ],
      "text/plain": [
       "   index                                               data kind  post_name  \\\n",
       "0      0  {'approved_at_utc': None, 'subreddit': 'scienc...   t3  t3_a74sy0   \n",
       "1      1  {'approved_at_utc': None, 'subreddit': 'scienc...   t3  t3_a74lvx   \n",
       "2      2  {'approved_at_utc': None, 'subreddit': 'scienc...   t3  t3_a74jhp   \n",
       "3      3  {'approved_at_utc': None, 'subreddit': 'scienc...   t3  t3_a74bl1   \n",
       "4      4  {'approved_at_utc': None, 'subreddit': 'scienc...   t3  t3_a74aro   \n",
       "\n",
       "  approved_by     author category content_categories       created  \\\n",
       "0        None   Wagamaga     None               None  1.545115e+09   \n",
       "1        None  cromatron     None               None  1.545114e+09   \n",
       "2        None  ididntwin     None               None  1.545113e+09   \n",
       "3        None   Wagamaga     None               None  1.545112e+09   \n",
       "4        None    Edude60     None               None  1.545112e+09   \n",
       "\n",
       "          domain likes media       name  num_comments  num_crossposts  \\\n",
       "0   news.vcu.edu  None  None  t3_a74sy0             3               0   \n",
       "1    gizmodo.com  None  None  t3_a74lvx             3               0   \n",
       "2     nature.com  None  None  t3_a74jhp             3               0   \n",
       "3  ldi.upenn.edu  None  None  t3_a74bl1            14               0   \n",
       "4       nasa.gov  None  None  t3_a74aro             5               0   \n",
       "\n",
       "  num_reports selftext subreddit  \\\n",
       "0        None            science   \n",
       "1        None            science   \n",
       "2        None            science   \n",
       "3        None            science   \n",
       "4        None            science   \n",
       "\n",
       "                                               title  wls  \n",
       "0  Children of parents who have alcohol use disor...    6  \n",
       "1  Astronomers Just Discovered 'Farout,' the Most...    6  \n",
       "2  A novel and safe small molecule enhances hair ...    6  \n",
       "3  A study of 500 U.S. hospitals, and from the pe...    6  \n",
       "4  Saturn's Rings May Disappear in 100 million years    6  "
      ]
     },
     "execution_count": 19,
     "metadata": {},
     "output_type": "execute_result"
    }
   ],
   "source": [
    "df_st.head()"
   ]
  },
  {
   "cell_type": "code",
   "execution_count": 20,
   "metadata": {},
   "outputs": [
    {
     "data": {
      "text/html": [
       "<div>\n",
       "<style scoped>\n",
       "    .dataframe tbody tr th:only-of-type {\n",
       "        vertical-align: middle;\n",
       "    }\n",
       "\n",
       "    .dataframe tbody tr th {\n",
       "        vertical-align: top;\n",
       "    }\n",
       "\n",
       "    .dataframe thead th {\n",
       "        text-align: right;\n",
       "    }\n",
       "</style>\n",
       "<table border=\"1\" class=\"dataframe\">\n",
       "  <thead>\n",
       "    <tr style=\"text-align: right;\">\n",
       "      <th></th>\n",
       "      <th>index</th>\n",
       "      <th>data</th>\n",
       "      <th>kind</th>\n",
       "      <th>post_name</th>\n",
       "      <th>approved_by</th>\n",
       "      <th>author</th>\n",
       "      <th>category</th>\n",
       "      <th>content_categories</th>\n",
       "      <th>created</th>\n",
       "      <th>domain</th>\n",
       "      <th>likes</th>\n",
       "      <th>media</th>\n",
       "      <th>name</th>\n",
       "      <th>num_comments</th>\n",
       "      <th>num_crossposts</th>\n",
       "      <th>num_reports</th>\n",
       "      <th>selftext</th>\n",
       "      <th>subreddit</th>\n",
       "      <th>title</th>\n",
       "      <th>wls</th>\n",
       "    </tr>\n",
       "  </thead>\n",
       "  <tbody>\n",
       "    <tr>\n",
       "      <th>1401</th>\n",
       "      <td>531</td>\n",
       "      <td>{'approved_at_utc': None, 'subreddit': 'techno...</td>\n",
       "      <td>t3</td>\n",
       "      <td>t3_a4wyyf</td>\n",
       "      <td>None</td>\n",
       "      <td>khayrirrw</td>\n",
       "      <td>None</td>\n",
       "      <td>None</td>\n",
       "      <td>1.544487e+09</td>\n",
       "      <td>nytimes.com</td>\n",
       "      <td>None</td>\n",
       "      <td>None</td>\n",
       "      <td>t3_a4wyyf</td>\n",
       "      <td>4</td>\n",
       "      <td>0</td>\n",
       "      <td>None</td>\n",
       "      <td></td>\n",
       "      <td>technology</td>\n",
       "      <td>Chinese Court Says Apple Infringed on Qualcomm...</td>\n",
       "      <td>6</td>\n",
       "    </tr>\n",
       "    <tr>\n",
       "      <th>1402</th>\n",
       "      <td>532</td>\n",
       "      <td>{'approved_at_utc': None, 'subreddit': 'techno...</td>\n",
       "      <td>t3</td>\n",
       "      <td>t3_a4wsh4</td>\n",
       "      <td>None</td>\n",
       "      <td>chrisarchitect</td>\n",
       "      <td>None</td>\n",
       "      <td>None</td>\n",
       "      <td>1.544486e+09</td>\n",
       "      <td>reuters.com</td>\n",
       "      <td>None</td>\n",
       "      <td>None</td>\n",
       "      <td>t3_a4wsh4</td>\n",
       "      <td>8</td>\n",
       "      <td>0</td>\n",
       "      <td>None</td>\n",
       "      <td></td>\n",
       "      <td>technology</td>\n",
       "      <td>China says rejecting physical cash is illegal ...</td>\n",
       "      <td>6</td>\n",
       "    </tr>\n",
       "    <tr>\n",
       "      <th>1403</th>\n",
       "      <td>533</td>\n",
       "      <td>{'approved_at_utc': None, 'subreddit': 'techno...</td>\n",
       "      <td>t3</td>\n",
       "      <td>t3_a4wgsz</td>\n",
       "      <td>None</td>\n",
       "      <td>swingadmin</td>\n",
       "      <td>None</td>\n",
       "      <td>None</td>\n",
       "      <td>1.544484e+09</td>\n",
       "      <td>arstechnica.com</td>\n",
       "      <td>None</td>\n",
       "      <td>None</td>\n",
       "      <td>t3_a4wgsz</td>\n",
       "      <td>17</td>\n",
       "      <td>1</td>\n",
       "      <td>None</td>\n",
       "      <td></td>\n",
       "      <td>technology</td>\n",
       "      <td>Elon Musk makes mockery of SEC settlement in 6...</td>\n",
       "      <td>6</td>\n",
       "    </tr>\n",
       "    <tr>\n",
       "      <th>1404</th>\n",
       "      <td>534</td>\n",
       "      <td>{'approved_at_utc': None, 'subreddit': 'techno...</td>\n",
       "      <td>t3</td>\n",
       "      <td>t3_a4wc4a</td>\n",
       "      <td>None</td>\n",
       "      <td>speckz</td>\n",
       "      <td>None</td>\n",
       "      <td>None</td>\n",
       "      <td>1.544483e+09</td>\n",
       "      <td>techdirt.com</td>\n",
       "      <td>None</td>\n",
       "      <td>None</td>\n",
       "      <td>t3_a4wc4a</td>\n",
       "      <td>8</td>\n",
       "      <td>0</td>\n",
       "      <td>None</td>\n",
       "      <td></td>\n",
       "      <td>technology</td>\n",
       "      <td>AT&amp;amp;T Finds Yet Another Way To Nickel-And-D...</td>\n",
       "      <td>6</td>\n",
       "    </tr>\n",
       "    <tr>\n",
       "      <th>1405</th>\n",
       "      <td>535</td>\n",
       "      <td>{'approved_at_utc': None, 'subreddit': 'techno...</td>\n",
       "      <td>t3</td>\n",
       "      <td>t3_a4w8rd</td>\n",
       "      <td>None</td>\n",
       "      <td>spsheridan</td>\n",
       "      <td>None</td>\n",
       "      <td>None</td>\n",
       "      <td>1.544482e+09</td>\n",
       "      <td>venturebeat.com</td>\n",
       "      <td>None</td>\n",
       "      <td>None</td>\n",
       "      <td>t3_a4w8rd</td>\n",
       "      <td>1</td>\n",
       "      <td>0</td>\n",
       "      <td>None</td>\n",
       "      <td></td>\n",
       "      <td>technology</td>\n",
       "      <td>Qualcomm wins iPhone import and sales ban in C...</td>\n",
       "      <td>6</td>\n",
       "    </tr>\n",
       "  </tbody>\n",
       "</table>\n",
       "</div>"
      ],
      "text/plain": [
       "      index                                               data kind  \\\n",
       "1401    531  {'approved_at_utc': None, 'subreddit': 'techno...   t3   \n",
       "1402    532  {'approved_at_utc': None, 'subreddit': 'techno...   t3   \n",
       "1403    533  {'approved_at_utc': None, 'subreddit': 'techno...   t3   \n",
       "1404    534  {'approved_at_utc': None, 'subreddit': 'techno...   t3   \n",
       "1405    535  {'approved_at_utc': None, 'subreddit': 'techno...   t3   \n",
       "\n",
       "      post_name approved_by          author category content_categories  \\\n",
       "1401  t3_a4wyyf        None       khayrirrw     None               None   \n",
       "1402  t3_a4wsh4        None  chrisarchitect     None               None   \n",
       "1403  t3_a4wgsz        None      swingadmin     None               None   \n",
       "1404  t3_a4wc4a        None          speckz     None               None   \n",
       "1405  t3_a4w8rd        None      spsheridan     None               None   \n",
       "\n",
       "           created           domain likes media       name  num_comments  \\\n",
       "1401  1.544487e+09      nytimes.com  None  None  t3_a4wyyf             4   \n",
       "1402  1.544486e+09      reuters.com  None  None  t3_a4wsh4             8   \n",
       "1403  1.544484e+09  arstechnica.com  None  None  t3_a4wgsz            17   \n",
       "1404  1.544483e+09     techdirt.com  None  None  t3_a4wc4a             8   \n",
       "1405  1.544482e+09  venturebeat.com  None  None  t3_a4w8rd             1   \n",
       "\n",
       "      num_crossposts num_reports selftext   subreddit  \\\n",
       "1401               0        None           technology   \n",
       "1402               0        None           technology   \n",
       "1403               1        None           technology   \n",
       "1404               0        None           technology   \n",
       "1405               0        None           technology   \n",
       "\n",
       "                                                  title  wls  \n",
       "1401  Chinese Court Says Apple Infringed on Qualcomm...    6  \n",
       "1402  China says rejecting physical cash is illegal ...    6  \n",
       "1403  Elon Musk makes mockery of SEC settlement in 6...    6  \n",
       "1404  AT&amp;T Finds Yet Another Way To Nickel-And-D...    6  \n",
       "1405  Qualcomm wins iPhone import and sales ban in C...    6  "
      ]
     },
     "execution_count": 20,
     "metadata": {},
     "output_type": "execute_result"
    }
   ],
   "source": [
    "df_st.tail()"
   ]
  },
  {
   "cell_type": "code",
   "execution_count": 21,
   "metadata": {},
   "outputs": [
    {
     "name": "stdout",
     "output_type": "stream",
     "text": [
      "kind 0\n",
      "post_name 0\n",
      "approved_by 1406\n",
      "author 0\n",
      "category 1406\n",
      "content_categories 1406\n",
      "created 0\n",
      "domain 0\n",
      "likes 1406\n",
      "media 1406\n",
      "name 0\n",
      "num_comments 0\n",
      "num_crossposts 0\n",
      "num_reports 1406\n",
      "selftext 0\n",
      "subreddit 0\n",
      "title 0\n",
      "wls 0\n"
     ]
    }
   ],
   "source": [
    "# Check for null values within columns in df\n",
    "for col in df_st.columns[2:]:\n",
    "    print(col, df_st[col].isnull().sum())\n",
    "    \n",
    "# Columns with null values will be removed"
   ]
  },
  {
   "cell_type": "code",
   "execution_count": 22,
   "metadata": {},
   "outputs": [],
   "source": [
    "# Drop null columns and original data columns\n",
    "df_st.drop(columns=['approved_by', 'category', 'content_categories', 'likes', 'media',\n",
    "                         'num_reports', 'kind'], inplace=True)"
   ]
  },
  {
   "cell_type": "code",
   "execution_count": 23,
   "metadata": {},
   "outputs": [
    {
     "data": {
      "text/plain": [
       "0        \n",
       "1        \n",
       "2        \n",
       "3        \n",
       "4        \n",
       "5        \n",
       "6        \n",
       "7        \n",
       "8        \n",
       "9        \n",
       "10       \n",
       "11       \n",
       "12       \n",
       "13       \n",
       "14       \n",
       "15       \n",
       "16       \n",
       "17       \n",
       "18       \n",
       "19       \n",
       "20       \n",
       "21       \n",
       "22       \n",
       "23       \n",
       "24       \n",
       "25       \n",
       "26       \n",
       "27       \n",
       "28       \n",
       "29       \n",
       "       ..\n",
       "1376     \n",
       "1377     \n",
       "1378     \n",
       "1379     \n",
       "1380     \n",
       "1381     \n",
       "1382     \n",
       "1383     \n",
       "1384     \n",
       "1385     \n",
       "1386     \n",
       "1387     \n",
       "1388     \n",
       "1389     \n",
       "1390     \n",
       "1391     \n",
       "1392     \n",
       "1393     \n",
       "1394     \n",
       "1395     \n",
       "1396     \n",
       "1397     \n",
       "1398     \n",
       "1399     \n",
       "1400     \n",
       "1401     \n",
       "1402     \n",
       "1403     \n",
       "1404     \n",
       "1405     \n",
       "Name: selftext, Length: 1406, dtype: object"
      ]
     },
     "execution_count": 23,
     "metadata": {},
     "output_type": "execute_result"
    }
   ],
   "source": [
    "# Most values in column 'selftext' appear to be empty strings, and the cells with values don't \n",
    "# appear to be good candidates for feature selection. Thus, let's remove 'selftext' as well.\n",
    "df_st['selftext']"
   ]
  },
  {
   "cell_type": "code",
   "execution_count": 24,
   "metadata": {},
   "outputs": [],
   "source": [
    "df_st.drop(columns='selftext', inplace=True)"
   ]
  },
  {
   "cell_type": "code",
   "execution_count": 25,
   "metadata": {},
   "outputs": [
    {
     "data": {
      "text/plain": [
       "Index(['index', 'data', 'post_name', 'author', 'created', 'domain', 'name',\n",
       "       'num_comments', 'num_crossposts', 'subreddit', 'title', 'wls'],\n",
       "      dtype='object')"
      ]
     },
     "execution_count": 25,
     "metadata": {},
     "output_type": "execute_result"
    }
   ],
   "source": [
    "df_st.columns"
   ]
  },
  {
   "cell_type": "markdown",
   "metadata": {},
   "source": [
    "_Along with 'title', 'author' and 'domain' may be potentially good features to help our classifier predict which subreddit a post belongs to. However, I will begin with conducting NLP solely on the post's 'title'._ "
   ]
  },
  {
   "cell_type": "code",
   "execution_count": 141,
   "metadata": {},
   "outputs": [],
   "source": [
    "# Below is the draft list of candidates for feature selection for the r/science subreddit.\n",
    "X = df_st['title']\n",
    "y = df_st['subreddit'] # The target value is the column with the subreddit's name"
   ]
  },
  {
   "cell_type": "code",
   "execution_count": 142,
   "metadata": {},
   "outputs": [
    {
     "data": {
      "text/plain": [
       "0    Children of parents who have alcohol use disor...\n",
       "1    Astronomers Just Discovered 'Farout,' the Most...\n",
       "2    A novel and safe small molecule enhances hair ...\n",
       "3    A study of 500 U.S. hospitals, and from the pe...\n",
       "4    Saturn's Rings May Disappear in 100 million years\n",
       "Name: title, dtype: object"
      ]
     },
     "execution_count": 142,
     "metadata": {},
     "output_type": "execute_result"
    }
   ],
   "source": [
    "X.head()"
   ]
  },
  {
   "cell_type": "code",
   "execution_count": 143,
   "metadata": {},
   "outputs": [
    {
     "data": {
      "text/plain": [
       "science       870\n",
       "technology    536\n",
       "Name: subreddit, dtype: int64"
      ]
     },
     "execution_count": 143,
     "metadata": {},
     "output_type": "execute_result"
    }
   ],
   "source": [
    "y.value_counts()"
   ]
  },
  {
   "cell_type": "code",
   "execution_count": 144,
   "metadata": {},
   "outputs": [],
   "source": [
    "# Encode the target classes\n",
    "y = y.map({'science': 0, 'technology': 1})"
   ]
  },
  {
   "cell_type": "code",
   "execution_count": 30,
   "metadata": {},
   "outputs": [
    {
     "data": {
      "text/plain": [
       "0    0.618777\n",
       "1    0.381223\n",
       "Name: subreddit, dtype: float64"
      ]
     },
     "execution_count": 30,
     "metadata": {},
     "output_type": "execute_result"
    }
   ],
   "source": [
    "y.value_counts(normalize=True)"
   ]
  },
  {
   "cell_type": "markdown",
   "metadata": {},
   "source": [
    "_For this dataset, the baseline accuracy of any model is 61.9%. This is the accuracy my models must surpass._"
   ]
  },
  {
   "cell_type": "markdown",
   "metadata": {},
   "source": [
    "### Modelling with NLP: r/science vs r/technology"
   ]
  },
  {
   "cell_type": "code",
   "execution_count": 145,
   "metadata": {},
   "outputs": [],
   "source": [
    "# Train/Test Split Data\n",
    "X_train, X_test, y_train, y_test = train_test_split(X, y, stratify=y, random_state=42)"
   ]
  },
  {
   "cell_type": "markdown",
   "metadata": {},
   "source": [
    "_Two vectorizers will be tested:_"
   ]
  },
  {
   "cell_type": "code",
   "execution_count": 32,
   "metadata": {},
   "outputs": [],
   "source": [
    "# Instantiate Vectorizers\n",
    "count_vect = CountVectorizer() # CountVectorizer requires a Series as an input, *not* df.\n",
    "tfidf = TfidfVectorizer()"
   ]
  },
  {
   "cell_type": "markdown",
   "metadata": {},
   "source": [
    "_For modelling, let's first test and compare the following classifiers: **Logistic Regression** and **RandomForest**_"
   ]
  },
  {
   "cell_type": "markdown",
   "metadata": {},
   "source": [
    "#### Classifier 1: Logisitic Regression"
   ]
  },
  {
   "cell_type": "code",
   "execution_count": 33,
   "metadata": {},
   "outputs": [],
   "source": [
    "# Instantiate Model\n",
    "logreg = LogisticRegression(random_state=42)"
   ]
  },
  {
   "cell_type": "markdown",
   "metadata": {},
   "source": [
    "**Pipeline 1: CountVectorizer + LogisticRegression**"
   ]
  },
  {
   "cell_type": "code",
   "execution_count": 34,
   "metadata": {},
   "outputs": [],
   "source": [
    "# Set up Pipeline 1\n",
    "pipe1 = Pipeline([\n",
    "    ('count_vect', count_vect),\n",
    "    ('logreg', logreg)  \n",
    "])"
   ]
  },
  {
   "cell_type": "code",
   "execution_count": 214,
   "metadata": {},
   "outputs": [
    {
     "name": "stderr",
     "output_type": "stream",
     "text": [
      "/Users/Bala_K/anaconda3/lib/python3.7/site-packages/sklearn/linear_model/logistic.py:433: FutureWarning: Default solver will be changed to 'lbfgs' in 0.22. Specify a solver to silence this warning.\n",
      "  FutureWarning)\n"
     ]
    },
    {
     "name": "stdout",
     "output_type": "stream",
     "text": [
      "Best Training Set Score: 0.9193548387096774\n",
      "Best Parameters: {'count_vect__max_features': None, 'count_vect__ngram_range': (1, 3), 'count_vect__stop_words': 'english'}\n",
      "Test Set Score: 0.9147727272727273\n"
     ]
    }
   ],
   "source": [
    "# Tune parameters and evaluate model\n",
    "params = {\n",
    "    'count_vect__stop_words': ['english'],\n",
    "    'count_vect__max_features': [None, 6000],\n",
    "    'count_vect__ngram_range': [(1,3), (1,4)],\n",
    "#     'logreg__C': [0.6, 0.8, 1.0] # C = 1.0 was the best parameter\n",
    "}\n",
    "\n",
    "gs1 = GridSearchCV(pipe1, param_grid=params, cv=5)\n",
    "gs1.fit(X_train, y_train)\n",
    "print('Best Training Set Score:', gs1.best_score_)\n",
    "print('Best Parameters:', gs1.best_params_)\n",
    "print('Test Set Score:', gs1.score(X_test, y_test))"
   ]
  },
  {
   "cell_type": "markdown",
   "metadata": {},
   "source": [
    "_The first pipeline (vectorizer + model) performs quite well relative to the baseline accuracy: 91% (training and test set) vs 62%. This means that our model predicts the right subreddit (in this case, r/science or r/technology 9 out of 10 times)._ <br> <br>\n",
    "_Let's see what we can do to improve model performance._ "
   ]
  },
  {
   "cell_type": "markdown",
   "metadata": {},
   "source": [
    "**Pipeline 2: Tfidf + Logistic Regression**"
   ]
  },
  {
   "cell_type": "code",
   "execution_count": 35,
   "metadata": {},
   "outputs": [],
   "source": [
    "# Set up Pipeline 2\n",
    "pipe2 = Pipeline([\n",
    "    ('tfidf', tfidf),\n",
    "    ('logreg', logreg)  \n",
    "])"
   ]
  },
  {
   "cell_type": "code",
   "execution_count": 192,
   "metadata": {},
   "outputs": [
    {
     "name": "stderr",
     "output_type": "stream",
     "text": [
      "/Users/Bala_K/anaconda3/lib/python3.7/site-packages/sklearn/linear_model/logistic.py:433: FutureWarning: Default solver will be changed to 'lbfgs' in 0.22. Specify a solver to silence this warning.\n",
      "  FutureWarning)\n"
     ]
    },
    {
     "name": "stdout",
     "output_type": "stream",
     "text": [
      "Best Training Set Score: 0.8425047438330171\n",
      "Best Parameters: {'logreg__penalty': 'l2', 'tfidf__max_features': None, 'tfidf__stop_words': None}\n",
      "Test Set Score: 0.8721590909090909\n"
     ]
    }
   ],
   "source": [
    "# Tune parameters and evaluate model\n",
    "params = {\n",
    "    'tfidf__stop_words': [None, 'english'],\n",
    "    'tfidf__max_features': [None, 5000, 6000],\n",
    "    'logreg__penalty': ['l1', 'l2']\n",
    "}\n",
    "\n",
    "gs2 = GridSearchCV(pipe2, param_grid=params, cv=3)\n",
    "gs2.fit(X_train, y_train)\n",
    "print('Best Training Set Score:', gs2.best_score_)\n",
    "print('Best Parameters:', gs2.best_params_)\n",
    "print('Test Set Score:', gs2.score(X_test, y_test))"
   ]
  },
  {
   "cell_type": "markdown",
   "metadata": {},
   "source": [
    "_With logisitic regression, CountVectorizer yields better results than the TFIDF vectorizer._"
   ]
  },
  {
   "cell_type": "markdown",
   "metadata": {},
   "source": [
    "#### Classifier 2: Random Forest"
   ]
  },
  {
   "cell_type": "code",
   "execution_count": 36,
   "metadata": {},
   "outputs": [],
   "source": [
    "rf = RandomForestClassifier(random_state=42)"
   ]
  },
  {
   "cell_type": "markdown",
   "metadata": {},
   "source": [
    "**Pipeline 3: CountVectorizer + RandomForest**"
   ]
  },
  {
   "cell_type": "markdown",
   "metadata": {},
   "source": [
    "_Now let's see if an ensemble method such as RandomForest will yield better results:_"
   ]
  },
  {
   "cell_type": "code",
   "execution_count": 37,
   "metadata": {},
   "outputs": [],
   "source": [
    "# Set up pipeline 3\n",
    "pipe3 = Pipeline([\n",
    "    ('count_vect', count_vect),\n",
    "    ('rf', rf)  \n",
    "])"
   ]
  },
  {
   "cell_type": "code",
   "execution_count": 202,
   "metadata": {},
   "outputs": [
    {
     "name": "stdout",
     "output_type": "stream",
     "text": [
      "Best Training Set Score: 0.8795066413662239\n",
      "Best Parameters: {'count_vect__max_features': 1000, 'count_vect__stop_words': 'english', 'rf__max_depth': None, 'rf__n_estimators': 500}\n",
      "Test Set Score: 0.8806818181818182\n",
      "\n",
      "Time Elapsed: 0:01:17.488705\n",
      "Code ended at: 04PM:44mins\n"
     ]
    }
   ],
   "source": [
    "# Tune parameters and evaluate model\n",
    "\n",
    "## Set timer\n",
    "t0 = time.time()\n",
    "\n",
    "params = {\n",
    "    'count_vect__stop_words': ['english'],\n",
    "    'count_vect__max_features': [950, 1000, 1050],\n",
    "    'rf__n_estimators': [475, 500, 525],\n",
    "    'rf__max_depth': [None, 5, 6]\n",
    "}\n",
    "\n",
    "gs3 = GridSearchCV(pipe3, param_grid=params, cv=3)\n",
    "gs3.fit(X_train, y_train)\n",
    "print('Best Training Set Score:', gs3.best_score_)\n",
    "print('Best Parameters:', gs3.best_params_)\n",
    "print('Test Set Score:', gs3.score(X_test, y_test))\n",
    "print()\n",
    "\n",
    "time_elapsed_secs = time.time() - t0 # time elapsed in seconds\n",
    "print('Time Elapsed:', datetime.timedelta(seconds=time_elapsed_secs))\n",
    "print('Code ended at:', time.strftime('%I:%M %p'))"
   ]
  },
  {
   "cell_type": "markdown",
   "metadata": {},
   "source": [
    "_Iterations on the parameters above show that LogReg is still the best performing model between the two_"
   ]
  },
  {
   "cell_type": "markdown",
   "metadata": {},
   "source": [
    "**Pipeline 4: TFIDF + RandomForest**"
   ]
  },
  {
   "cell_type": "code",
   "execution_count": 38,
   "metadata": {},
   "outputs": [],
   "source": [
    "# Set up pipeline 4\n",
    "pipe4 = Pipeline([\n",
    "    ('tfidf', tfidf),\n",
    "    ('rf', rf)  \n",
    "])"
   ]
  },
  {
   "cell_type": "code",
   "execution_count": 205,
   "metadata": {},
   "outputs": [
    {
     "name": "stdout",
     "output_type": "stream",
     "text": [
      "Best Training Set Score: 0.8795066413662239\n",
      "Best Parameters: {'rf__max_depth': None, 'rf__n_estimators': 500, 'tfidf__max_features': 1000, 'tfidf__stop_words': 'english'}\n",
      "Test Set Score: 0.8693181818181818\n",
      "\n",
      "Time Elapsed: 0:01:20.696398\n",
      "Code ended at: 04PM:47mins\n"
     ]
    }
   ],
   "source": [
    "# Tune parameters and evaluate model\n",
    "\n",
    "## Set timer\n",
    "t0 = time.time()\n",
    "\n",
    "params = {\n",
    "    'tfidf__stop_words': ['english'],\n",
    "    'tfidf__max_features': [800, 1000, 1200],\n",
    "    'rf__n_estimators': [450, 500, 550],\n",
    "    'rf__max_depth': [None, 2, 3]\n",
    "}\n",
    "\n",
    "gs4 = GridSearchCV(pipe4, param_grid=params, cv=3)\n",
    "gs4.fit(X_train, y_train)\n",
    "print('Best Training Set Score:', gs4.best_score_)\n",
    "print('Best Parameters:', gs4.best_params_)\n",
    "print('Test Set Score:', gs4.score(X_test, y_test))\n",
    "print()\n",
    "\n",
    "time_elapsed_secs = time.time() - t0 # time elapsed in seconds\n",
    "print('Time Elapsed:', datetime.timedelta(seconds=time_elapsed_secs))\n",
    "print('Code ended at:', time.strftime('%%I:%M %p'))"
   ]
  },
  {
   "cell_type": "markdown",
   "metadata": {},
   "source": [
    "_With RandomForest, CountVectorizer provides slightly better results that TFIDF. LogReg with CountVectorizer is still the best performing combo out of those evaluated, but there is still room for improvement._"
   ]
  },
  {
   "cell_type": "markdown",
   "metadata": {},
   "source": [
    "#### Ensemble Models using VotingClassifier"
   ]
  },
  {
   "cell_type": "code",
   "execution_count": 221,
   "metadata": {},
   "outputs": [],
   "source": [
    "# Instantiate voter\n",
    "voter = VotingClassifier([\n",
    "    ('lr1', pipe1),\n",
    "    ('lr2', pipe2),\n",
    "    ('rf1', pipe3),\n",
    "    ('rf2', pipe4)\n",
    "])"
   ]
  },
  {
   "cell_type": "code",
   "execution_count": 222,
   "metadata": {},
   "outputs": [
    {
     "name": "stderr",
     "output_type": "stream",
     "text": [
      "/Users/Bala_K/anaconda3/lib/python3.7/site-packages/sklearn/linear_model/logistic.py:433: FutureWarning: Default solver will be changed to 'lbfgs' in 0.22. Specify a solver to silence this warning.\n",
      "  FutureWarning)\n",
      "/Users/Bala_K/anaconda3/lib/python3.7/site-packages/sklearn/ensemble/forest.py:246: FutureWarning: The default value of n_estimators will change from 10 in version 0.20 to 100 in 0.22.\n",
      "  \"10 in version 0.20 to 100 in 0.22.\", FutureWarning)\n",
      "/Users/Bala_K/anaconda3/lib/python3.7/site-packages/sklearn/ensemble/forest.py:246: FutureWarning: The default value of n_estimators will change from 10 in version 0.20 to 100 in 0.22.\n",
      "  \"10 in version 0.20 to 100 in 0.22.\", FutureWarning)\n"
     ]
    },
    {
     "name": "stdout",
     "output_type": "stream",
     "text": [
      "Training Score: 0.9943074003795066\n",
      "Test Score: 0.8664772727272727\n"
     ]
    }
   ],
   "source": [
    "voter.fit(X_train, y_train)\n",
    "print('Training Score:', voter.score(X_train, y_train))\n",
    "print('Test Score:', voter.score(X_test, y_test))"
   ]
  },
  {
   "cell_type": "markdown",
   "metadata": {},
   "source": [
    "_Voter significantly improves training, but worsens test performance (indication of overfitting)._"
   ]
  },
  {
   "cell_type": "markdown",
   "metadata": {},
   "source": [
    "### Model Performance with Other Subreddits"
   ]
  },
  {
   "cell_type": "markdown",
   "metadata": {},
   "source": [
    "**How does our model perform with other subreddits?**"
   ]
  },
  {
   "cell_type": "markdown",
   "metadata": {},
   "source": [
    "_The `extract features` function below prepares our feature and target matricies for modelling._ "
   ]
  },
  {
   "cell_type": "code",
   "execution_count": 41,
   "metadata": {},
   "outputs": [],
   "source": [
    "# Define a function to create our feature and target matricies\n",
    "def extract_features(df1, df2):\n",
    "    # Extract subreddit names to later encode target classes\n",
    "    sub_name1 = df1['data'][0]['subreddit']\n",
    "    sub_name2 = df2['data'][0]['subreddit']\n",
    "    # Combine datasets, both sets of posts have same rows so can be stacked\n",
    "    df_comb = pd.concat([df1, df2], axis=0) \n",
    "    df_comb.reset_index(inplace=True)\n",
    "    df_comb['subreddit'] = df_comb['data'].map(lambda x: x['subreddit'])\n",
    "    # Create a column of post names to identify and remove any duplicates\n",
    "    df_comb['post_name'] = df_comb['data'].map(lambda x: x['name']) \n",
    "    # Drop duplicates\n",
    "    df_comb.drop_duplicates(subset='post_name', inplace=True)\n",
    "    # Calculate and print number of unique posts\n",
    "    unique_posts = df_comb.groupby(by='subreddit').count()['post_name']\n",
    "    print('Num of unique posts by subreddit...')\n",
    "    print()\n",
    "    print(unique_posts)\n",
    "    # Extract features: 'title' of each reddit post\n",
    "    df_comb['title'] = df_comb['data'].map(lambda x: x['title'])\n",
    "    # Set X and y\n",
    "    X = df_comb['title']\n",
    "    ## Encode y \n",
    "    y = df_comb['subreddit'].map({sub_name1: 0, sub_name2: 1})\n",
    "    return X, y"
   ]
  },
  {
   "cell_type": "markdown",
   "metadata": {},
   "source": [
    "_Let's compare the r/fitness and r/sports subreddits:_"
   ]
  },
  {
   "cell_type": "code",
   "execution_count": 42,
   "metadata": {},
   "outputs": [
    {
     "name": "stdout",
     "output_type": "stream",
     "text": [
      "Num of unique posts by subreddit...\n",
      "\n",
      "subreddit\n",
      "Fitness    914\n",
      "sports     498\n",
      "Name: post_name, dtype: int64\n"
     ]
    }
   ],
   "source": [
    "X, y = extract_features(sports_df, fit_df) # Semi-colon used to suppress console output"
   ]
  },
  {
   "cell_type": "code",
   "execution_count": 43,
   "metadata": {},
   "outputs": [
    {
     "data": {
      "text/plain": [
       "0    Can someone be a good lockdown defender(in bas...\n",
       "1               Cocky fighter ends up with broken nose\n",
       "2                            How a bowling alley works\n",
       "3    Edson Barboza Vs Dan Hooker at UFC Milwaukee w...\n",
       "4            Aaron Rodgers getting sacked by the Bears\n",
       "5             Dan Henderson knocks out Michael Bisping\n",
       "6    Biggest Wave of the Season? Gigantic Wave: Tom...\n",
       "7    Family in Kanata told they have to take their ...\n",
       "8    Manon Rheaume breaks the gender barrier in the...\n",
       "9    Kelly Slater loses board while in the barrel a...\n",
       "Name: title, dtype: object"
      ]
     },
     "execution_count": 43,
     "metadata": {},
     "output_type": "execute_result"
    }
   ],
   "source": [
    "X.head(10)"
   ]
  },
  {
   "cell_type": "code",
   "execution_count": 44,
   "metadata": {},
   "outputs": [],
   "source": [
    "# Update train-test split\n",
    "X_train, X_test, y_train, y_test = train_test_split(X, y, random_state=42, stratify=y)"
   ]
  },
  {
   "cell_type": "code",
   "execution_count": 45,
   "metadata": {},
   "outputs": [
    {
     "data": {
      "text/plain": [
       "605             Cramp in Quads during straight leg raises\n",
       "242     Canadian boxer Adonis Stevenson reported in cr...\n",
       "982       Will combining lifting routines affect results?\n",
       "338     After winning the CFL's Grey Cup last night, T...\n",
       "1112                        Sequential vs Cycling Muscles\n",
       "437     Adrian Beltre announces retirement after 21 ye...\n",
       "103                   Sidney Crosby hops over a teammate.\n",
       "1333                            Nsuns without accessories\n",
       "578                  Bulking - PPL(sidebar) or 5/3/1 BBB?\n",
       "1306                           Hip Tightness During Squat\n",
       "Name: title, dtype: object"
      ]
     },
     "execution_count": 45,
     "metadata": {},
     "output_type": "execute_result"
    }
   ],
   "source": [
    "# Check new input matrices\n",
    "X_train.head(10)"
   ]
  },
  {
   "cell_type": "code",
   "execution_count": 46,
   "metadata": {},
   "outputs": [
    {
     "data": {
      "text/plain": [
       "495     Scandal blowing up in the world of Darts. BBC ...\n",
       "881                              Where do I go from here?\n",
       "401     Watch: Sam Ehlinger's Big 12 record streak end...\n",
       "134     Danny Barrett (USA Sevens) goes FULL BEAST MOD...\n",
       "88      Baker Mayfield throws a perfect 51 yard pass t...\n",
       "1053                         Need help with cutting cycle\n",
       "1287                   Best Way to Track Calories Burned?\n",
       "80                                   Massive open ice hit\n",
       "572                                      Creatime isolate\n",
       "21      Drew Brees sent a custom gift to the Offensive...\n",
       "Name: title, dtype: object"
      ]
     },
     "execution_count": 46,
     "metadata": {},
     "output_type": "execute_result"
    }
   ],
   "source": [
    "X_test.head(10)"
   ]
  },
  {
   "cell_type": "markdown",
   "metadata": {},
   "source": [
    "#### Model Evaluation"
   ]
  },
  {
   "cell_type": "markdown",
   "metadata": {},
   "source": [
    "Q1: How does our model perform with GridSearch's chosen \"best parameters\" on different subreddits?"
   ]
  },
  {
   "cell_type": "markdown",
   "metadata": {},
   "source": [
    "_Pipe 1 and Pipe 3 are selected below as they yielded the best performance (i.e CountVectorizer performed better than TFIDF)._"
   ]
  },
  {
   "cell_type": "code",
   "execution_count": 289,
   "metadata": {},
   "outputs": [
    {
     "name": "stdout",
     "output_type": "stream",
     "text": [
      "Baseline Accuracy: 0.6473087818696884\n",
      "Best Training Set Score: 0.8281397544853636\n",
      "Best Parameters: {'count_vect__max_features': 6000, 'count_vect__ngram_range': (1, 4), 'count_vect__stop_words': 'english'}\n",
      "Test Set Score: 0.8895184135977338\n",
      "Time Elapsed: 0:00:01.993297\n",
      "Code ended at: 01:45 PM\n"
     ]
    }
   ],
   "source": [
    "# Pipe 1 Evaluation (part 1)\n",
    "\n",
    "## Set timer\n",
    "t0 = time.time()\n",
    "\n",
    "# Parameters from original subreddit comparison\n",
    "params = {\n",
    "    'count_vect__stop_words': ['english'],\n",
    "    'count_vect__max_features': [None, 6000],\n",
    "    'count_vect__ngram_range': [(1,3), (1,4)],\n",
    "}\n",
    "\n",
    "gs = GridSearchCV(pipe1, param_grid=params, cv=5)\n",
    "gs.fit(X_train, y_train)\n",
    "print('Baseline Accuracy:', y.value_counts(normalize=True).max())\n",
    "print('Best Training Set Score:', gs.best_score_)\n",
    "print('Best Parameters:', gs.best_params_)\n",
    "print('Test Set Score:', gs.score(X_test, y_test))\n",
    "\n",
    "time_elapsed_secs = time.time() - t0 # time elapsed in seconds\n",
    "print('Time Elapsed:', datetime.timedelta(seconds=time_elapsed_secs))\n",
    "print('Code ended at:', time.strftime('%I:%M %p'))"
   ]
  },
  {
   "cell_type": "markdown",
   "metadata": {},
   "source": [
    "_If we keep the \"best parameters\" from the model's run with the original subreddits, the model's performance is poorer with the new subreddits. This could be improved by fine-tuning the grid search with the new subreddits._"
   ]
  },
  {
   "cell_type": "code",
   "execution_count": 291,
   "metadata": {},
   "outputs": [
    {
     "name": "stdout",
     "output_type": "stream",
     "text": [
      "Baseline Accuracy: 0.6473087818696884\n",
      "Best Training Set Score: 0.9093484419263456\n",
      "Best Parameters: {'count_vect__max_features': 1000, 'count_vect__ngram_range': (1, 4), 'count_vect__stop_words': None}\n",
      "Test Set Score: 0.9348441926345609\n",
      "Time Elapsed: 0:00:10.356053\n",
      "Code ended at: 01:49 PM\n"
     ]
    }
   ],
   "source": [
    "# Pipe 1 Evaluation (part 2)\n",
    "\n",
    "## Set timer\n",
    "t0 = time.time()\n",
    "\n",
    "# Parameters from original subreddit comparison\n",
    "params = {\n",
    "    'count_vect__stop_words': [None, 'english'],\n",
    "    'count_vect__max_features': [900, 1000, 1100],\n",
    "    'count_vect__ngram_range': [(1,3), (1,4), (1,5)],\n",
    "}\n",
    "\n",
    "gs = GridSearchCV(pipe1, param_grid=params, cv=5)\n",
    "gs.fit(X_train, y_train)\n",
    "print('Baseline Accuracy:', y.value_counts(normalize=True).max())\n",
    "print('Best Training Set Score:', gs.best_score_)\n",
    "print('Best Parameters:', gs.best_params_)\n",
    "print('Test Set Score:', gs.score(X_test, y_test))\n",
    "\n",
    "time_elapsed_secs = time.time() - t0 # time elapsed in seconds\n",
    "print('Time Elapsed:', datetime.timedelta(seconds=time_elapsed_secs))\n",
    "print('Code ended at:', time.strftime('%I:%M %p'))"
   ]
  },
  {
   "cell_type": "code",
   "execution_count": 294,
   "metadata": {},
   "outputs": [
    {
     "name": "stdout",
     "output_type": "stream",
     "text": [
      "Best Training Set Score: 0.8696883852691218\n",
      "Best Parameters: {'count_vect__max_features': 1050, 'count_vect__stop_words': 'english', 'rf__max_depth': None, 'rf__n_estimators': 100}\n",
      "Test Set Score: 0.9008498583569405\n",
      "\n",
      "Time Elapsed: 0:00:28.767805\n",
      "Code ended at: 02:07 PM\n"
     ]
    }
   ],
   "source": [
    "# Pipe 3 Evaluation\n",
    "\n",
    "## Set timer\n",
    "t0 = time.time()\n",
    "\n",
    "params = {\n",
    "    'count_vect__stop_words': ['english'],\n",
    "    'count_vect__max_features': [950, 1000, 1050],\n",
    "    'rf__n_estimators': [100, 200, 300],\n",
    "    'rf__max_depth': [None, 5, 6]\n",
    "}\n",
    "\n",
    "gs = GridSearchCV(pipe3, param_grid=params, cv=3)\n",
    "gs.fit(X_train, y_train)\n",
    "print('Best Training Set Score:', gs.best_score_)\n",
    "print('Best Parameters:', gs.best_params_)\n",
    "print('Test Set Score:', gs.score(X_test, y_test))\n",
    "print()\n",
    "\n",
    "time_elapsed_secs = time.time() - t0 # time elapsed in seconds\n",
    "print('Time Elapsed:', datetime.timedelta(seconds=time_elapsed_secs))\n",
    "print('Code ended at:', time.strftime('%I:%M %p'))"
   ]
  },
  {
   "cell_type": "markdown",
   "metadata": {},
   "source": [
    "_How do models other than LogReg or RandomForest perform? Let's try Naive-Bayes and SVMs._"
   ]
  },
  {
   "cell_type": "code",
   "execution_count": 49,
   "metadata": {},
   "outputs": [],
   "source": [
    "mnb = MultinomialNB()"
   ]
  },
  {
   "cell_type": "code",
   "execution_count": null,
   "metadata": {},
   "outputs": [],
   "source": [
    "tfidf = TfidfVectorizer()"
   ]
  },
  {
   "cell_type": "code",
   "execution_count": 109,
   "metadata": {},
   "outputs": [],
   "source": [
    "# Pipe for Naive-Bayes\n",
    "pipe_mnb = Pipeline([\n",
    "    ('count_vect', count_vect),\n",
    "    ('mnb', mnb)  \n",
    "])"
   ]
  },
  {
   "cell_type": "code",
   "execution_count": 168,
   "metadata": {},
   "outputs": [
    {
     "data": {
      "text/plain": [
       "799    New study confirms Bt eggplant reduces pestici...\n",
       "215    If you have mild cognitive impairment, you’re ...\n",
       "709    A new candidate HIV vaccine from Scripps Resea...\n",
       "33     Global water supplies shrinking due to climate...\n",
       "945    It’s surprisingly hard to give away billions o...\n",
       "Name: title, dtype: object"
      ]
     },
     "execution_count": 168,
     "metadata": {},
     "output_type": "execute_result"
    }
   ],
   "source": [
    "X_train.head()"
   ]
  },
  {
   "cell_type": "code",
   "execution_count": 152,
   "metadata": {},
   "outputs": [
    {
     "name": "stdout",
     "output_type": "stream",
     "text": [
      "Baseline Accuracy: 0.6187766714082503\n",
      "Best Training Set Score: 0.9250474383301708\n",
      "Best Parameters: {'count_vect__max_features': 6000, 'count_vect__ngram_range': (1, 1), 'count_vect__stop_words': 'english', 'mnb__alpha': 1}\n",
      "Test Set Score: 0.9147727272727273\n",
      "Time Elapsed: 0:00:15.977110\n",
      "Code ended at: 11:58 PM\n"
     ]
    }
   ],
   "source": [
    "# Pipe MNB Evaluation\n",
    "\n",
    "## Set timer\n",
    "t0 = time.time()\n",
    "\n",
    "# Parameters from original subreddit comparison\n",
    "params = {\n",
    "    'count_vect__stop_words': [None, 'english'],\n",
    "    'count_vect__max_features': [6000, 10000, None],\n",
    "    'count_vect__ngram_range': [(1,2),(1,1)],\n",
    "    'mnb__alpha': [0.01, 0.1, 1]\n",
    "}\n",
    "\n",
    "gs_mnb = GridSearchCV(pipe_mnb, param_grid=params, return_train_score=True, cv=5)\n",
    "gs_mnb.fit(X_train, y_train)\n",
    "print('Baseline Accuracy:', y.value_counts(normalize=True).max())\n",
    "print('Best Training Set Score:', gs_mnb.best_score_)\n",
    "print('Best Parameters:', gs_mnb.best_params_)\n",
    "print('Test Set Score:', gs_mnb.score(X_test, y_test))\n",
    "\n",
    "time_elapsed_secs = time.time() - t0 # time elapsed in seconds\n",
    "print('Time Elapsed:', datetime.timedelta(seconds=time_elapsed_secs))\n",
    "print('Code ended at:', time.strftime('%I:%M %p'))"
   ]
  },
  {
   "cell_type": "code",
   "execution_count": 83,
   "metadata": {},
   "outputs": [
    {
     "data": {
      "text/html": [
       "<div>\n",
       "<style scoped>\n",
       "    .dataframe tbody tr th:only-of-type {\n",
       "        vertical-align: middle;\n",
       "    }\n",
       "\n",
       "    .dataframe tbody tr th {\n",
       "        vertical-align: top;\n",
       "    }\n",
       "\n",
       "    .dataframe thead th {\n",
       "        text-align: right;\n",
       "    }\n",
       "</style>\n",
       "<table border=\"1\" class=\"dataframe\">\n",
       "  <thead>\n",
       "    <tr style=\"text-align: right;\">\n",
       "      <th></th>\n",
       "      <th>mean_fit_time</th>\n",
       "      <th>std_fit_time</th>\n",
       "      <th>mean_score_time</th>\n",
       "      <th>std_score_time</th>\n",
       "      <th>param_count_vect__max_features</th>\n",
       "      <th>param_count_vect__ngram_range</th>\n",
       "      <th>param_count_vect__stop_words</th>\n",
       "      <th>param_mnb__alpha</th>\n",
       "      <th>params</th>\n",
       "      <th>split0_test_score</th>\n",
       "      <th>...</th>\n",
       "      <th>mean_test_score</th>\n",
       "      <th>std_test_score</th>\n",
       "      <th>rank_test_score</th>\n",
       "      <th>split0_train_score</th>\n",
       "      <th>split1_train_score</th>\n",
       "      <th>split2_train_score</th>\n",
       "      <th>split3_train_score</th>\n",
       "      <th>split4_train_score</th>\n",
       "      <th>mean_train_score</th>\n",
       "      <th>std_train_score</th>\n",
       "    </tr>\n",
       "  </thead>\n",
       "  <tbody>\n",
       "    <tr>\n",
       "      <th>0</th>\n",
       "      <td>0.107919</td>\n",
       "      <td>0.011023</td>\n",
       "      <td>0.010079</td>\n",
       "      <td>0.001989</td>\n",
       "      <td>3000</td>\n",
       "      <td>(1, 5)</td>\n",
       "      <td>None</td>\n",
       "      <td>0.01</td>\n",
       "      <td>{'count_vect__max_features': 3000, 'count_vect...</td>\n",
       "      <td>0.929577</td>\n",
       "      <td>...</td>\n",
       "      <td>0.948064</td>\n",
       "      <td>0.017530</td>\n",
       "      <td>7</td>\n",
       "      <td>0.991726</td>\n",
       "      <td>0.991736</td>\n",
       "      <td>0.992916</td>\n",
       "      <td>0.989387</td>\n",
       "      <td>0.988208</td>\n",
       "      <td>0.990794</td>\n",
       "      <td>0.001728</td>\n",
       "    </tr>\n",
       "    <tr>\n",
       "      <th>1</th>\n",
       "      <td>0.106026</td>\n",
       "      <td>0.012244</td>\n",
       "      <td>0.010109</td>\n",
       "      <td>0.001859</td>\n",
       "      <td>3000</td>\n",
       "      <td>(1, 5)</td>\n",
       "      <td>None</td>\n",
       "      <td>0.1</td>\n",
       "      <td>{'count_vect__max_features': 3000, 'count_vect...</td>\n",
       "      <td>0.934272</td>\n",
       "      <td>...</td>\n",
       "      <td>0.950897</td>\n",
       "      <td>0.016126</td>\n",
       "      <td>4</td>\n",
       "      <td>0.991726</td>\n",
       "      <td>0.990555</td>\n",
       "      <td>0.991736</td>\n",
       "      <td>0.988208</td>\n",
       "      <td>0.985849</td>\n",
       "      <td>0.989615</td>\n",
       "      <td>0.002280</td>\n",
       "    </tr>\n",
       "    <tr>\n",
       "      <th>2</th>\n",
       "      <td>0.054058</td>\n",
       "      <td>0.000530</td>\n",
       "      <td>0.007314</td>\n",
       "      <td>0.000894</td>\n",
       "      <td>3000</td>\n",
       "      <td>(1, 5)</td>\n",
       "      <td>english</td>\n",
       "      <td>0.01</td>\n",
       "      <td>{'count_vect__max_features': 3000, 'count_vect...</td>\n",
       "      <td>0.920188</td>\n",
       "      <td>...</td>\n",
       "      <td>0.932956</td>\n",
       "      <td>0.009949</td>\n",
       "      <td>12</td>\n",
       "      <td>0.986998</td>\n",
       "      <td>0.987013</td>\n",
       "      <td>0.987013</td>\n",
       "      <td>0.990566</td>\n",
       "      <td>0.989387</td>\n",
       "      <td>0.988195</td>\n",
       "      <td>0.001501</td>\n",
       "    </tr>\n",
       "    <tr>\n",
       "      <th>3</th>\n",
       "      <td>0.050837</td>\n",
       "      <td>0.003338</td>\n",
       "      <td>0.005933</td>\n",
       "      <td>0.000411</td>\n",
       "      <td>3000</td>\n",
       "      <td>(1, 5)</td>\n",
       "      <td>english</td>\n",
       "      <td>0.1</td>\n",
       "      <td>{'count_vect__max_features': 3000, 'count_vect...</td>\n",
       "      <td>0.920188</td>\n",
       "      <td>...</td>\n",
       "      <td>0.933900</td>\n",
       "      <td>0.011453</td>\n",
       "      <td>11</td>\n",
       "      <td>0.986998</td>\n",
       "      <td>0.987013</td>\n",
       "      <td>0.987013</td>\n",
       "      <td>0.990566</td>\n",
       "      <td>0.989387</td>\n",
       "      <td>0.988195</td>\n",
       "      <td>0.001501</td>\n",
       "    </tr>\n",
       "    <tr>\n",
       "      <th>4</th>\n",
       "      <td>0.095772</td>\n",
       "      <td>0.008909</td>\n",
       "      <td>0.008913</td>\n",
       "      <td>0.001048</td>\n",
       "      <td>6000</td>\n",
       "      <td>(1, 5)</td>\n",
       "      <td>None</td>\n",
       "      <td>0.01</td>\n",
       "      <td>{'count_vect__max_features': 6000, 'count_vect...</td>\n",
       "      <td>0.934272</td>\n",
       "      <td>...</td>\n",
       "      <td>0.948064</td>\n",
       "      <td>0.015680</td>\n",
       "      <td>7</td>\n",
       "      <td>0.996454</td>\n",
       "      <td>0.997639</td>\n",
       "      <td>0.994097</td>\n",
       "      <td>0.994104</td>\n",
       "      <td>0.996462</td>\n",
       "      <td>0.995751</td>\n",
       "      <td>0.001415</td>\n",
       "    </tr>\n",
       "    <tr>\n",
       "      <th>5</th>\n",
       "      <td>0.119364</td>\n",
       "      <td>0.021597</td>\n",
       "      <td>0.010522</td>\n",
       "      <td>0.000677</td>\n",
       "      <td>6000</td>\n",
       "      <td>(1, 5)</td>\n",
       "      <td>None</td>\n",
       "      <td>0.1</td>\n",
       "      <td>{'count_vect__max_features': 6000, 'count_vect...</td>\n",
       "      <td>0.934272</td>\n",
       "      <td>...</td>\n",
       "      <td>0.949953</td>\n",
       "      <td>0.013763</td>\n",
       "      <td>5</td>\n",
       "      <td>0.995272</td>\n",
       "      <td>0.996458</td>\n",
       "      <td>0.992916</td>\n",
       "      <td>0.994104</td>\n",
       "      <td>0.995283</td>\n",
       "      <td>0.994807</td>\n",
       "      <td>0.001203</td>\n",
       "    </tr>\n",
       "    <tr>\n",
       "      <th>6</th>\n",
       "      <td>0.063663</td>\n",
       "      <td>0.013732</td>\n",
       "      <td>0.007599</td>\n",
       "      <td>0.002466</td>\n",
       "      <td>6000</td>\n",
       "      <td>(1, 5)</td>\n",
       "      <td>english</td>\n",
       "      <td>0.01</td>\n",
       "      <td>{'count_vect__max_features': 6000, 'count_vect...</td>\n",
       "      <td>0.934272</td>\n",
       "      <td>...</td>\n",
       "      <td>0.937677</td>\n",
       "      <td>0.010923</td>\n",
       "      <td>10</td>\n",
       "      <td>0.996454</td>\n",
       "      <td>0.995277</td>\n",
       "      <td>0.998819</td>\n",
       "      <td>0.998821</td>\n",
       "      <td>0.997642</td>\n",
       "      <td>0.997403</td>\n",
       "      <td>0.001378</td>\n",
       "    </tr>\n",
       "    <tr>\n",
       "      <th>7</th>\n",
       "      <td>0.057595</td>\n",
       "      <td>0.003325</td>\n",
       "      <td>0.006839</td>\n",
       "      <td>0.000810</td>\n",
       "      <td>6000</td>\n",
       "      <td>(1, 5)</td>\n",
       "      <td>english</td>\n",
       "      <td>0.1</td>\n",
       "      <td>{'count_vect__max_features': 6000, 'count_vect...</td>\n",
       "      <td>0.934272</td>\n",
       "      <td>...</td>\n",
       "      <td>0.940510</td>\n",
       "      <td>0.011347</td>\n",
       "      <td>9</td>\n",
       "      <td>0.996454</td>\n",
       "      <td>0.994097</td>\n",
       "      <td>0.997639</td>\n",
       "      <td>0.998821</td>\n",
       "      <td>0.996462</td>\n",
       "      <td>0.996694</td>\n",
       "      <td>0.001567</td>\n",
       "    </tr>\n",
       "    <tr>\n",
       "      <th>8</th>\n",
       "      <td>0.110270</td>\n",
       "      <td>0.020102</td>\n",
       "      <td>0.011484</td>\n",
       "      <td>0.002428</td>\n",
       "      <td>None</td>\n",
       "      <td>(1, 5)</td>\n",
       "      <td>None</td>\n",
       "      <td>0.01</td>\n",
       "      <td>{'count_vect__max_features': None, 'count_vect...</td>\n",
       "      <td>0.967136</td>\n",
       "      <td>...</td>\n",
       "      <td>0.957507</td>\n",
       "      <td>0.019565</td>\n",
       "      <td>1</td>\n",
       "      <td>1.000000</td>\n",
       "      <td>1.000000</td>\n",
       "      <td>1.000000</td>\n",
       "      <td>1.000000</td>\n",
       "      <td>1.000000</td>\n",
       "      <td>1.000000</td>\n",
       "      <td>0.000000</td>\n",
       "    </tr>\n",
       "    <tr>\n",
       "      <th>9</th>\n",
       "      <td>0.093765</td>\n",
       "      <td>0.009937</td>\n",
       "      <td>0.011207</td>\n",
       "      <td>0.004217</td>\n",
       "      <td>None</td>\n",
       "      <td>(1, 5)</td>\n",
       "      <td>None</td>\n",
       "      <td>0.1</td>\n",
       "      <td>{'count_vect__max_features': None, 'count_vect...</td>\n",
       "      <td>0.962441</td>\n",
       "      <td>...</td>\n",
       "      <td>0.956563</td>\n",
       "      <td>0.020105</td>\n",
       "      <td>2</td>\n",
       "      <td>1.000000</td>\n",
       "      <td>1.000000</td>\n",
       "      <td>1.000000</td>\n",
       "      <td>1.000000</td>\n",
       "      <td>1.000000</td>\n",
       "      <td>1.000000</td>\n",
       "      <td>0.000000</td>\n",
       "    </tr>\n",
       "    <tr>\n",
       "      <th>10</th>\n",
       "      <td>0.085240</td>\n",
       "      <td>0.024801</td>\n",
       "      <td>0.010894</td>\n",
       "      <td>0.002967</td>\n",
       "      <td>None</td>\n",
       "      <td>(1, 5)</td>\n",
       "      <td>english</td>\n",
       "      <td>0.01</td>\n",
       "      <td>{'count_vect__max_features': None, 'count_vect...</td>\n",
       "      <td>0.953052</td>\n",
       "      <td>...</td>\n",
       "      <td>0.949008</td>\n",
       "      <td>0.013508</td>\n",
       "      <td>6</td>\n",
       "      <td>1.000000</td>\n",
       "      <td>1.000000</td>\n",
       "      <td>1.000000</td>\n",
       "      <td>1.000000</td>\n",
       "      <td>1.000000</td>\n",
       "      <td>1.000000</td>\n",
       "      <td>0.000000</td>\n",
       "    </tr>\n",
       "    <tr>\n",
       "      <th>11</th>\n",
       "      <td>0.124481</td>\n",
       "      <td>0.090319</td>\n",
       "      <td>0.009862</td>\n",
       "      <td>0.002721</td>\n",
       "      <td>None</td>\n",
       "      <td>(1, 5)</td>\n",
       "      <td>english</td>\n",
       "      <td>0.1</td>\n",
       "      <td>{'count_vect__max_features': None, 'count_vect...</td>\n",
       "      <td>0.953052</td>\n",
       "      <td>...</td>\n",
       "      <td>0.951841</td>\n",
       "      <td>0.014431</td>\n",
       "      <td>3</td>\n",
       "      <td>1.000000</td>\n",
       "      <td>1.000000</td>\n",
       "      <td>1.000000</td>\n",
       "      <td>1.000000</td>\n",
       "      <td>1.000000</td>\n",
       "      <td>1.000000</td>\n",
       "      <td>0.000000</td>\n",
       "    </tr>\n",
       "  </tbody>\n",
       "</table>\n",
       "<p>12 rows × 24 columns</p>\n",
       "</div>"
      ],
      "text/plain": [
       "    mean_fit_time  std_fit_time  mean_score_time  std_score_time  \\\n",
       "0        0.107919      0.011023         0.010079        0.001989   \n",
       "1        0.106026      0.012244         0.010109        0.001859   \n",
       "2        0.054058      0.000530         0.007314        0.000894   \n",
       "3        0.050837      0.003338         0.005933        0.000411   \n",
       "4        0.095772      0.008909         0.008913        0.001048   \n",
       "5        0.119364      0.021597         0.010522        0.000677   \n",
       "6        0.063663      0.013732         0.007599        0.002466   \n",
       "7        0.057595      0.003325         0.006839        0.000810   \n",
       "8        0.110270      0.020102         0.011484        0.002428   \n",
       "9        0.093765      0.009937         0.011207        0.004217   \n",
       "10       0.085240      0.024801         0.010894        0.002967   \n",
       "11       0.124481      0.090319         0.009862        0.002721   \n",
       "\n",
       "   param_count_vect__max_features param_count_vect__ngram_range  \\\n",
       "0                            3000                        (1, 5)   \n",
       "1                            3000                        (1, 5)   \n",
       "2                            3000                        (1, 5)   \n",
       "3                            3000                        (1, 5)   \n",
       "4                            6000                        (1, 5)   \n",
       "5                            6000                        (1, 5)   \n",
       "6                            6000                        (1, 5)   \n",
       "7                            6000                        (1, 5)   \n",
       "8                            None                        (1, 5)   \n",
       "9                            None                        (1, 5)   \n",
       "10                           None                        (1, 5)   \n",
       "11                           None                        (1, 5)   \n",
       "\n",
       "   param_count_vect__stop_words param_mnb__alpha  \\\n",
       "0                          None             0.01   \n",
       "1                          None              0.1   \n",
       "2                       english             0.01   \n",
       "3                       english              0.1   \n",
       "4                          None             0.01   \n",
       "5                          None              0.1   \n",
       "6                       english             0.01   \n",
       "7                       english              0.1   \n",
       "8                          None             0.01   \n",
       "9                          None              0.1   \n",
       "10                      english             0.01   \n",
       "11                      english              0.1   \n",
       "\n",
       "                                               params  split0_test_score  \\\n",
       "0   {'count_vect__max_features': 3000, 'count_vect...           0.929577   \n",
       "1   {'count_vect__max_features': 3000, 'count_vect...           0.934272   \n",
       "2   {'count_vect__max_features': 3000, 'count_vect...           0.920188   \n",
       "3   {'count_vect__max_features': 3000, 'count_vect...           0.920188   \n",
       "4   {'count_vect__max_features': 6000, 'count_vect...           0.934272   \n",
       "5   {'count_vect__max_features': 6000, 'count_vect...           0.934272   \n",
       "6   {'count_vect__max_features': 6000, 'count_vect...           0.934272   \n",
       "7   {'count_vect__max_features': 6000, 'count_vect...           0.934272   \n",
       "8   {'count_vect__max_features': None, 'count_vect...           0.967136   \n",
       "9   {'count_vect__max_features': None, 'count_vect...           0.962441   \n",
       "10  {'count_vect__max_features': None, 'count_vect...           0.953052   \n",
       "11  {'count_vect__max_features': None, 'count_vect...           0.953052   \n",
       "\n",
       "         ...         mean_test_score  std_test_score  rank_test_score  \\\n",
       "0        ...                0.948064        0.017530                7   \n",
       "1        ...                0.950897        0.016126                4   \n",
       "2        ...                0.932956        0.009949               12   \n",
       "3        ...                0.933900        0.011453               11   \n",
       "4        ...                0.948064        0.015680                7   \n",
       "5        ...                0.949953        0.013763                5   \n",
       "6        ...                0.937677        0.010923               10   \n",
       "7        ...                0.940510        0.011347                9   \n",
       "8        ...                0.957507        0.019565                1   \n",
       "9        ...                0.956563        0.020105                2   \n",
       "10       ...                0.949008        0.013508                6   \n",
       "11       ...                0.951841        0.014431                3   \n",
       "\n",
       "    split0_train_score  split1_train_score  split2_train_score  \\\n",
       "0             0.991726            0.991736            0.992916   \n",
       "1             0.991726            0.990555            0.991736   \n",
       "2             0.986998            0.987013            0.987013   \n",
       "3             0.986998            0.987013            0.987013   \n",
       "4             0.996454            0.997639            0.994097   \n",
       "5             0.995272            0.996458            0.992916   \n",
       "6             0.996454            0.995277            0.998819   \n",
       "7             0.996454            0.994097            0.997639   \n",
       "8             1.000000            1.000000            1.000000   \n",
       "9             1.000000            1.000000            1.000000   \n",
       "10            1.000000            1.000000            1.000000   \n",
       "11            1.000000            1.000000            1.000000   \n",
       "\n",
       "    split3_train_score  split4_train_score  mean_train_score  std_train_score  \n",
       "0             0.989387            0.988208          0.990794         0.001728  \n",
       "1             0.988208            0.985849          0.989615         0.002280  \n",
       "2             0.990566            0.989387          0.988195         0.001501  \n",
       "3             0.990566            0.989387          0.988195         0.001501  \n",
       "4             0.994104            0.996462          0.995751         0.001415  \n",
       "5             0.994104            0.995283          0.994807         0.001203  \n",
       "6             0.998821            0.997642          0.997403         0.001378  \n",
       "7             0.998821            0.996462          0.996694         0.001567  \n",
       "8             1.000000            1.000000          1.000000         0.000000  \n",
       "9             1.000000            1.000000          1.000000         0.000000  \n",
       "10            1.000000            1.000000          1.000000         0.000000  \n",
       "11            1.000000            1.000000          1.000000         0.000000  \n",
       "\n",
       "[12 rows x 24 columns]"
      ]
     },
     "execution_count": 83,
     "metadata": {},
     "output_type": "execute_result"
    }
   ],
   "source": [
    "pd.DataFrame(gs_mnb.cv_results_)"
   ]
  },
  {
   "cell_type": "code",
   "execution_count": 61,
   "metadata": {},
   "outputs": [],
   "source": [
    "svc = SVC()"
   ]
  },
  {
   "cell_type": "code",
   "execution_count": 169,
   "metadata": {},
   "outputs": [],
   "source": [
    "# Pipe for SVC\n",
    "pipe_svc = Pipeline([\n",
    "    ('tfidf', tfidf),\n",
    "    ('svc', svc)  \n",
    "])"
   ]
  },
  {
   "cell_type": "code",
   "execution_count": 170,
   "metadata": {},
   "outputs": [
    {
     "name": "stdout",
     "output_type": "stream",
     "text": [
      "Baseline Accuracy: 0.6187766714082503\n",
      "Best Training Set Score: 0.9070208728652751\n",
      "Best Parameters: {'svc__C': 10, 'svc__degree': 2, 'svc__kernel': 'linear', 'tfidf__max_features': None, 'tfidf__ngram_range': (1, 4), 'tfidf__stop_words': 'english'}\n",
      "Test Set Score: 0.9232954545454546\n",
      "Time Elapsed: 0:02:41.660215\n",
      "Code ended at: 01:13 AM\n"
     ]
    }
   ],
   "source": [
    "# Pipe SVC Evaluation\n",
    "\n",
    "## Set timer\n",
    "t0 = time.time()\n",
    "\n",
    "# Parameters from original subreddit comparison\n",
    "params = {\n",
    "    'tfidf__stop_words': [None, 'english'],\n",
    "    'tfidf__max_features': [3000, 4000, None],\n",
    "    'tfidf__ngram_range': [(1,4)],\n",
    "    'svc__C': [1, 10],\n",
    "    'svc__kernel': ['linear', 'poly'],\n",
    "    'svc__degree': [2,3,4]\n",
    "}\n",
    "\n",
    "gs = GridSearchCV(pipe_svc, param_grid=params, cv=5)\n",
    "gs.fit(X_train, y_train)\n",
    "print('Baseline Accuracy:', y.value_counts(normalize=True).max())\n",
    "print('Best Training Set Score:', gs.best_score_)\n",
    "print('Best Parameters:', gs.best_params_)\n",
    "print('Test Set Score:', gs.score(X_test, y_test))\n",
    "\n",
    "time_elapsed_secs = time.time() - t0 # time elapsed in seconds\n",
    "print('Time Elapsed:', datetime.timedelta(seconds=time_elapsed_secs))\n",
    "print('Code ended at:', time.strftime('%I:%M %p'))"
   ]
  },
  {
   "cell_type": "markdown",
   "metadata": {},
   "source": [
    "_Although it's not shown above, TFIDF + SVC produces better results than Count Vectorizer + SVC._"
   ]
  },
  {
   "cell_type": "markdown",
   "metadata": {},
   "source": [
    "#### Best Performing Model"
   ]
  },
  {
   "cell_type": "markdown",
   "metadata": {},
   "source": [
    "4 Models were tested: LogisticRegression, RandomForest, MultinomialNaiveBayes, SVC <br>\n",
    "Each model was tested with two word vectorizers: CountVectorizer and TFIDF <br> <br>\n",
    "\n",
    "**MNB and SVC** produced the best results, with training and test accuracies of approximately 95%, compared to a baseline accuracy of 65%. <br> <br>\n",
    "\n",
    "**MNB** slighltly outperformed SVC, and has the added advantage of executing more quickly. "
   ]
  },
  {
   "cell_type": "markdown",
   "metadata": {},
   "source": [
    "### Visualizing Results"
   ]
  },
  {
   "cell_type": "markdown",
   "metadata": {},
   "source": [
    "We can examine the results from the CountVectorizer and TFIDFVectorizer to see which features stood out the most. For the subreddits examined, CountVectorizer generally performed better. <br>\n",
    "\n",
    "Since the MNB model performed best, let's visualize the tuned CountVectorizer features."
   ]
  },
  {
   "cell_type": "code",
   "execution_count": 78,
   "metadata": {},
   "outputs": [
    {
     "data": {
      "text/plain": [
       "{'count_vect__max_features': None,\n",
       " 'count_vect__ngram_range': (1, 5),\n",
       " 'count_vect__stop_words': None,\n",
       " 'mnb__alpha': 0.01}"
      ]
     },
     "execution_count": 78,
     "metadata": {},
     "output_type": "execute_result"
    }
   ],
   "source": [
    "# CountVectorizer features with MNB (Fitness vs Sports)\n",
    "gs_mnb.best_params_"
   ]
  },
  {
   "cell_type": "code",
   "execution_count": 125,
   "metadata": {},
   "outputs": [],
   "source": [
    "# Instantiate CountVectorizer\n",
    "count_vect = CountVectorizer(ngram_range=(1,5), stop_words='english')\n",
    "text = count_vect.fit_transform(X_train)\n",
    "text = text.toarray()"
   ]
  },
  {
   "cell_type": "code",
   "execution_count": 126,
   "metadata": {},
   "outputs": [
    {
     "data": {
      "text/html": [
       "<div>\n",
       "<style scoped>\n",
       "    .dataframe tbody tr th:only-of-type {\n",
       "        vertical-align: middle;\n",
       "    }\n",
       "\n",
       "    .dataframe tbody tr th {\n",
       "        vertical-align: top;\n",
       "    }\n",
       "\n",
       "    .dataframe thead th {\n",
       "        text-align: right;\n",
       "    }\n",
       "</style>\n",
       "<table border=\"1\" class=\"dataframe\">\n",
       "  <thead>\n",
       "    <tr style=\"text-align: right;\">\n",
       "      <th></th>\n",
       "      <th>000</th>\n",
       "      <th>000 teddy</th>\n",
       "      <th>000 teddy bears</th>\n",
       "      <th>000 teddy bears collected</th>\n",
       "      <th>000 teddy bears collected annual</th>\n",
       "      <th>000th</th>\n",
       "      <th>000th point</th>\n",
       "      <th>000th point san</th>\n",
       "      <th>000th point san antonio</th>\n",
       "      <th>000th point san antonio spurs</th>\n",
       "      <th>...</th>\n",
       "      <th>zone vs cico</th>\n",
       "      <th>zone vs cico question</th>\n",
       "      <th>zumba</th>\n",
       "      <th>zumba fitness</th>\n",
       "      <th>zumba fitness hurdle</th>\n",
       "      <th>zverev</th>\n",
       "      <th>zverev stuns</th>\n",
       "      <th>zverev stuns novak</th>\n",
       "      <th>zverev stuns novak djokovic</th>\n",
       "      <th>zverev stuns novak djokovic win</th>\n",
       "    </tr>\n",
       "    <tr>\n",
       "      <th>subreddit</th>\n",
       "      <th></th>\n",
       "      <th></th>\n",
       "      <th></th>\n",
       "      <th></th>\n",
       "      <th></th>\n",
       "      <th></th>\n",
       "      <th></th>\n",
       "      <th></th>\n",
       "      <th></th>\n",
       "      <th></th>\n",
       "      <th></th>\n",
       "      <th></th>\n",
       "      <th></th>\n",
       "      <th></th>\n",
       "      <th></th>\n",
       "      <th></th>\n",
       "      <th></th>\n",
       "      <th></th>\n",
       "      <th></th>\n",
       "      <th></th>\n",
       "      <th></th>\n",
       "    </tr>\n",
       "  </thead>\n",
       "  <tbody>\n",
       "    <tr>\n",
       "      <th>1</th>\n",
       "      <td>0</td>\n",
       "      <td>0</td>\n",
       "      <td>0</td>\n",
       "      <td>0</td>\n",
       "      <td>0</td>\n",
       "      <td>0</td>\n",
       "      <td>0</td>\n",
       "      <td>0</td>\n",
       "      <td>0</td>\n",
       "      <td>0</td>\n",
       "      <td>...</td>\n",
       "      <td>0</td>\n",
       "      <td>0</td>\n",
       "      <td>0</td>\n",
       "      <td>0</td>\n",
       "      <td>0</td>\n",
       "      <td>0</td>\n",
       "      <td>0</td>\n",
       "      <td>0</td>\n",
       "      <td>0</td>\n",
       "      <td>0</td>\n",
       "    </tr>\n",
       "    <tr>\n",
       "      <th>0</th>\n",
       "      <td>0</td>\n",
       "      <td>0</td>\n",
       "      <td>0</td>\n",
       "      <td>0</td>\n",
       "      <td>0</td>\n",
       "      <td>0</td>\n",
       "      <td>0</td>\n",
       "      <td>0</td>\n",
       "      <td>0</td>\n",
       "      <td>0</td>\n",
       "      <td>...</td>\n",
       "      <td>0</td>\n",
       "      <td>0</td>\n",
       "      <td>0</td>\n",
       "      <td>0</td>\n",
       "      <td>0</td>\n",
       "      <td>0</td>\n",
       "      <td>0</td>\n",
       "      <td>0</td>\n",
       "      <td>0</td>\n",
       "      <td>0</td>\n",
       "    </tr>\n",
       "    <tr>\n",
       "      <th>1</th>\n",
       "      <td>0</td>\n",
       "      <td>0</td>\n",
       "      <td>0</td>\n",
       "      <td>0</td>\n",
       "      <td>0</td>\n",
       "      <td>0</td>\n",
       "      <td>0</td>\n",
       "      <td>0</td>\n",
       "      <td>0</td>\n",
       "      <td>0</td>\n",
       "      <td>...</td>\n",
       "      <td>0</td>\n",
       "      <td>0</td>\n",
       "      <td>0</td>\n",
       "      <td>0</td>\n",
       "      <td>0</td>\n",
       "      <td>0</td>\n",
       "      <td>0</td>\n",
       "      <td>0</td>\n",
       "      <td>0</td>\n",
       "      <td>0</td>\n",
       "    </tr>\n",
       "    <tr>\n",
       "      <th>0</th>\n",
       "      <td>0</td>\n",
       "      <td>0</td>\n",
       "      <td>0</td>\n",
       "      <td>0</td>\n",
       "      <td>0</td>\n",
       "      <td>0</td>\n",
       "      <td>0</td>\n",
       "      <td>0</td>\n",
       "      <td>0</td>\n",
       "      <td>0</td>\n",
       "      <td>...</td>\n",
       "      <td>0</td>\n",
       "      <td>0</td>\n",
       "      <td>0</td>\n",
       "      <td>0</td>\n",
       "      <td>0</td>\n",
       "      <td>0</td>\n",
       "      <td>0</td>\n",
       "      <td>0</td>\n",
       "      <td>0</td>\n",
       "      <td>0</td>\n",
       "    </tr>\n",
       "    <tr>\n",
       "      <th>1</th>\n",
       "      <td>0</td>\n",
       "      <td>0</td>\n",
       "      <td>0</td>\n",
       "      <td>0</td>\n",
       "      <td>0</td>\n",
       "      <td>0</td>\n",
       "      <td>0</td>\n",
       "      <td>0</td>\n",
       "      <td>0</td>\n",
       "      <td>0</td>\n",
       "      <td>...</td>\n",
       "      <td>0</td>\n",
       "      <td>0</td>\n",
       "      <td>0</td>\n",
       "      <td>0</td>\n",
       "      <td>0</td>\n",
       "      <td>0</td>\n",
       "      <td>0</td>\n",
       "      <td>0</td>\n",
       "      <td>0</td>\n",
       "      <td>0</td>\n",
       "    </tr>\n",
       "  </tbody>\n",
       "</table>\n",
       "<p>5 rows × 18785 columns</p>\n",
       "</div>"
      ],
      "text/plain": [
       "           000  000 teddy  000 teddy bears  000 teddy bears collected  \\\n",
       "subreddit                                                               \n",
       "1            0          0                0                          0   \n",
       "0            0          0                0                          0   \n",
       "1            0          0                0                          0   \n",
       "0            0          0                0                          0   \n",
       "1            0          0                0                          0   \n",
       "\n",
       "           000 teddy bears collected annual  000th  000th point  \\\n",
       "subreddit                                                         \n",
       "1                                         0      0            0   \n",
       "0                                         0      0            0   \n",
       "1                                         0      0            0   \n",
       "0                                         0      0            0   \n",
       "1                                         0      0            0   \n",
       "\n",
       "           000th point san  000th point san antonio  \\\n",
       "subreddit                                             \n",
       "1                        0                        0   \n",
       "0                        0                        0   \n",
       "1                        0                        0   \n",
       "0                        0                        0   \n",
       "1                        0                        0   \n",
       "\n",
       "           000th point san antonio spurs               ...                 \\\n",
       "subreddit                                              ...                  \n",
       "1                                      0               ...                  \n",
       "0                                      0               ...                  \n",
       "1                                      0               ...                  \n",
       "0                                      0               ...                  \n",
       "1                                      0               ...                  \n",
       "\n",
       "           zone vs cico  zone vs cico question  zumba  zumba fitness  \\\n",
       "subreddit                                                              \n",
       "1                     0                      0      0              0   \n",
       "0                     0                      0      0              0   \n",
       "1                     0                      0      0              0   \n",
       "0                     0                      0      0              0   \n",
       "1                     0                      0      0              0   \n",
       "\n",
       "           zumba fitness hurdle  zverev  zverev stuns  zverev stuns novak  \\\n",
       "subreddit                                                                   \n",
       "1                             0       0             0                   0   \n",
       "0                             0       0             0                   0   \n",
       "1                             0       0             0                   0   \n",
       "0                             0       0             0                   0   \n",
       "1                             0       0             0                   0   \n",
       "\n",
       "           zverev stuns novak djokovic  zverev stuns novak djokovic win  \n",
       "subreddit                                                                \n",
       "1                                    0                                0  \n",
       "0                                    0                                0  \n",
       "1                                    0                                0  \n",
       "0                                    0                                0  \n",
       "1                                    0                                0  \n",
       "\n",
       "[5 rows x 18785 columns]"
      ]
     },
     "execution_count": 126,
     "metadata": {},
     "output_type": "execute_result"
    }
   ],
   "source": [
    "text_df = pd.DataFrame(text, columns=count_vect.get_feature_names())\n",
    "text_df.index = y_train\n",
    "text_df.head()"
   ]
  },
  {
   "cell_type": "code",
   "execution_count": 137,
   "metadata": {},
   "outputs": [],
   "source": [
    "# Top Features: Sports + Fitness Subreddits\n",
    "top_feats_sports = text_df[text_df.index == 0].sum().sort_values(ascending=False).head(15)\n",
    "top_feats_fitness = text_df[text_df.index == 1].sum().sort_values(ascending=False).head(15)"
   ]
  },
  {
   "cell_type": "code",
   "execution_count": 159,
   "metadata": {},
   "outputs": [
    {
     "data": {
      "text/html": [
       "<div>\n",
       "<style scoped>\n",
       "    .dataframe tbody tr th:only-of-type {\n",
       "        vertical-align: middle;\n",
       "    }\n",
       "\n",
       "    .dataframe tbody tr th {\n",
       "        vertical-align: top;\n",
       "    }\n",
       "\n",
       "    .dataframe thead th {\n",
       "        text-align: right;\n",
       "    }\n",
       "</style>\n",
       "<table border=\"1\" class=\"dataframe\">\n",
       "  <thead>\n",
       "    <tr style=\"text-align: right;\">\n",
       "      <th></th>\n",
       "      <th>000</th>\n",
       "      <th>000mph</th>\n",
       "      <th>05</th>\n",
       "      <th>08</th>\n",
       "      <th>09</th>\n",
       "      <th>096</th>\n",
       "      <th>10</th>\n",
       "      <th>100</th>\n",
       "      <th>100m</th>\n",
       "      <th>10b</th>\n",
       "      <th>...</th>\n",
       "      <th>youth</th>\n",
       "      <th>youtube</th>\n",
       "      <th>zdnet</th>\n",
       "      <th>zero</th>\n",
       "      <th>zhoushan</th>\n",
       "      <th>zip</th>\n",
       "      <th>zombies</th>\n",
       "      <th>zones</th>\n",
       "      <th>zuckerberg</th>\n",
       "      <th>zytiga</th>\n",
       "    </tr>\n",
       "    <tr>\n",
       "      <th>subreddit</th>\n",
       "      <th></th>\n",
       "      <th></th>\n",
       "      <th></th>\n",
       "      <th></th>\n",
       "      <th></th>\n",
       "      <th></th>\n",
       "      <th></th>\n",
       "      <th></th>\n",
       "      <th></th>\n",
       "      <th></th>\n",
       "      <th></th>\n",
       "      <th></th>\n",
       "      <th></th>\n",
       "      <th></th>\n",
       "      <th></th>\n",
       "      <th></th>\n",
       "      <th></th>\n",
       "      <th></th>\n",
       "      <th></th>\n",
       "      <th></th>\n",
       "      <th></th>\n",
       "    </tr>\n",
       "  </thead>\n",
       "  <tbody>\n",
       "    <tr>\n",
       "      <th>0</th>\n",
       "      <td>0</td>\n",
       "      <td>0</td>\n",
       "      <td>0</td>\n",
       "      <td>0</td>\n",
       "      <td>0</td>\n",
       "      <td>0</td>\n",
       "      <td>0</td>\n",
       "      <td>0</td>\n",
       "      <td>0</td>\n",
       "      <td>0</td>\n",
       "      <td>...</td>\n",
       "      <td>0</td>\n",
       "      <td>0</td>\n",
       "      <td>0</td>\n",
       "      <td>0</td>\n",
       "      <td>0</td>\n",
       "      <td>0</td>\n",
       "      <td>0</td>\n",
       "      <td>0</td>\n",
       "      <td>0</td>\n",
       "      <td>0</td>\n",
       "    </tr>\n",
       "    <tr>\n",
       "      <th>0</th>\n",
       "      <td>0</td>\n",
       "      <td>0</td>\n",
       "      <td>0</td>\n",
       "      <td>0</td>\n",
       "      <td>0</td>\n",
       "      <td>0</td>\n",
       "      <td>0</td>\n",
       "      <td>0</td>\n",
       "      <td>0</td>\n",
       "      <td>0</td>\n",
       "      <td>...</td>\n",
       "      <td>0</td>\n",
       "      <td>0</td>\n",
       "      <td>0</td>\n",
       "      <td>0</td>\n",
       "      <td>0</td>\n",
       "      <td>0</td>\n",
       "      <td>0</td>\n",
       "      <td>0</td>\n",
       "      <td>0</td>\n",
       "      <td>0</td>\n",
       "    </tr>\n",
       "    <tr>\n",
       "      <th>0</th>\n",
       "      <td>0</td>\n",
       "      <td>0</td>\n",
       "      <td>0</td>\n",
       "      <td>0</td>\n",
       "      <td>0</td>\n",
       "      <td>0</td>\n",
       "      <td>0</td>\n",
       "      <td>0</td>\n",
       "      <td>0</td>\n",
       "      <td>0</td>\n",
       "      <td>...</td>\n",
       "      <td>0</td>\n",
       "      <td>0</td>\n",
       "      <td>0</td>\n",
       "      <td>0</td>\n",
       "      <td>0</td>\n",
       "      <td>0</td>\n",
       "      <td>0</td>\n",
       "      <td>0</td>\n",
       "      <td>0</td>\n",
       "      <td>0</td>\n",
       "    </tr>\n",
       "    <tr>\n",
       "      <th>0</th>\n",
       "      <td>1</td>\n",
       "      <td>0</td>\n",
       "      <td>0</td>\n",
       "      <td>0</td>\n",
       "      <td>0</td>\n",
       "      <td>0</td>\n",
       "      <td>0</td>\n",
       "      <td>0</td>\n",
       "      <td>0</td>\n",
       "      <td>0</td>\n",
       "      <td>...</td>\n",
       "      <td>0</td>\n",
       "      <td>0</td>\n",
       "      <td>0</td>\n",
       "      <td>0</td>\n",
       "      <td>0</td>\n",
       "      <td>0</td>\n",
       "      <td>0</td>\n",
       "      <td>0</td>\n",
       "      <td>0</td>\n",
       "      <td>0</td>\n",
       "    </tr>\n",
       "    <tr>\n",
       "      <th>1</th>\n",
       "      <td>0</td>\n",
       "      <td>0</td>\n",
       "      <td>0</td>\n",
       "      <td>0</td>\n",
       "      <td>0</td>\n",
       "      <td>0</td>\n",
       "      <td>0</td>\n",
       "      <td>0</td>\n",
       "      <td>0</td>\n",
       "      <td>0</td>\n",
       "      <td>...</td>\n",
       "      <td>0</td>\n",
       "      <td>0</td>\n",
       "      <td>0</td>\n",
       "      <td>0</td>\n",
       "      <td>0</td>\n",
       "      <td>0</td>\n",
       "      <td>0</td>\n",
       "      <td>0</td>\n",
       "      <td>0</td>\n",
       "      <td>0</td>\n",
       "    </tr>\n",
       "  </tbody>\n",
       "</table>\n",
       "<p>5 rows × 5446 columns</p>\n",
       "</div>"
      ],
      "text/plain": [
       "           000  000mph  05  08  09  096  10  100  100m  10b   ...    youth  \\\n",
       "subreddit                                                     ...            \n",
       "0            0       0   0   0   0    0   0    0     0    0   ...        0   \n",
       "0            0       0   0   0   0    0   0    0     0    0   ...        0   \n",
       "0            0       0   0   0   0    0   0    0     0    0   ...        0   \n",
       "0            1       0   0   0   0    0   0    0     0    0   ...        0   \n",
       "1            0       0   0   0   0    0   0    0     0    0   ...        0   \n",
       "\n",
       "           youtube  zdnet  zero  zhoushan  zip  zombies  zones  zuckerberg  \\\n",
       "subreddit                                                                    \n",
       "0                0      0     0         0    0        0      0           0   \n",
       "0                0      0     0         0    0        0      0           0   \n",
       "0                0      0     0         0    0        0      0           0   \n",
       "0                0      0     0         0    0        0      0           0   \n",
       "1                0      0     0         0    0        0      0           0   \n",
       "\n",
       "           zytiga  \n",
       "subreddit          \n",
       "0               0  \n",
       "0               0  \n",
       "0               0  \n",
       "0               0  \n",
       "1               0  \n",
       "\n",
       "[5 rows x 5446 columns]"
      ]
     },
     "execution_count": 159,
     "metadata": {},
     "output_type": "execute_result"
    }
   ],
   "source": [
    "# Top Features: Science + Technology Subreddits\n",
    "count_vect = CountVectorizer(stop_words='english')\n",
    "text = count_vect.fit_transform(X_train)\n",
    "text = text.toarray()\n",
    "text_df = pd.DataFrame(text, columns=count_vect.get_feature_names())\n",
    "text_df.index = y_train\n",
    "text_df.head()"
   ]
  },
  {
   "cell_type": "code",
   "execution_count": 160,
   "metadata": {},
   "outputs": [],
   "source": [
    "# Top Features: Sports + Fitness Subreddits\n",
    "top_feats_science = text_df[text_df.index == 0].sum().sort_values(ascending=False).head(15)\n",
    "top_feats_technology = text_df[text_df.index == 1].sum().sort_values(ascending=False).head(15)"
   ]
  },
  {
   "cell_type": "code",
   "execution_count": 166,
   "metadata": {},
   "outputs": [
    {
     "data": {
      "image/png": "[encoded data removed]",
      "text/plain": [
       "<Figure size 1008x288 with 2 Axes>"
      ]
     },
     "metadata": {
      "needs_background": "light"
     },
     "output_type": "display_data"
    }
   ],
   "source": [
    "# Create subplots of most occuring words\n",
    "\n",
    "plt.figure(figsize = (14,4))\n",
    "\n",
    "plt.subplot(121)\n",
    "top_feats_science.plot(kind='bar')\n",
    "plt.title('Top Features: r/science')\n",
    "plt.xlabel('Feature')\n",
    "plt.ylabel('# of Occurences')\n",
    "\n",
    "plt.subplot(122)\n",
    "top_feats_technology.plot(kind='bar')\n",
    "plt.title('Top Features: r/technology')\n",
    "plt.xlabel('Feature')\n",
    "plt.ylabel('# of Occurences');"
   ]
  },
  {
   "cell_type": "code",
   "execution_count": 167,
   "metadata": {},
   "outputs": [
    {
     "data": {
      "image/png": "[encoded data removed]",
      "text/plain": [
       "<Figure size 1008x288 with 2 Axes>"
      ]
     },
     "metadata": {
      "needs_background": "light"
     },
     "output_type": "display_data"
    }
   ],
   "source": [
    "plt.figure(figsize = (14,4))\n",
    "\n",
    "plt.subplot(121)\n",
    "top_feats_sports.plot(kind='bar')\n",
    "plt.title('Top Features: r/sports')\n",
    "plt.xlabel('Feature')\n",
    "plt.ylabel('# of Occurences')\n",
    "\n",
    "plt.subplot(122)\n",
    "top_feats_fitness.plot(kind='bar')\n",
    "plt.title('Top Features: r/fitness')\n",
    "plt.xlabel('Feature')\n",
    "plt.ylabel('# of Occurences');"
   ]
  }
 ],
 "metadata": {
  "kernelspec": {
   "display_name": "Python 3",
   "language": "python",
   "name": "python3"
  },
  "language_info": {
   "codemirror_mode": {
    "name": "ipython",
    "version": 3
   },
   "file_extension": ".py",
   "mimetype": "text/x-python",
   "name": "python",
   "nbconvert_exporter": "python",
   "pygments_lexer": "ipython3",
   "version": "3.7.1"
  },
  "varInspector": {
   "cols": {
    "lenName": 16,
    "lenType": 16,
    "lenVar": 40
   },
   "kernels_config": {
    "python": {
     "delete_cmd_postfix": "",
     "delete_cmd_prefix": "del ",
     "library": "var_list.py",
     "varRefreshCmd": "print(var_dic_list())"
    },
    "r": {
     "delete_cmd_postfix": ") ",
     "delete_cmd_prefix": "rm(",
     "library": "var_list.r",
     "varRefreshCmd": "cat(var_dic_list()) "
    }
   },
   "types_to_exclude": [
    "module",
    "function",
    "builtin_function_or_method",
    "instance",
    "_Feature"
   ],
   "window_display": false
  }
 },
 "nbformat": 4,
 "nbformat_minor": 2
}
